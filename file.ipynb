{
 "cells": [
  {
   "cell_type": "code",
   "execution_count": 1,
   "id": "8277e40e-837a-4b4c-8181-fbef607145df",
   "metadata": {},
   "outputs": [],
   "source": [
    "# File handeling\n",
    "\n",
    "# file = open('<file _name>','mode')\n",
    "# file.close()\n",
    "\n",
    "# with open('<file_name>','mode')as file:\n",
    "#     <operations>\n",
    "\n",
    "# modes\n",
    "# x -> create\n",
    "# r -> read\n",
    "# a -> append\n",
    "# w -> write"
   ]
  },
  {
   "cell_type": "code",
   "execution_count": 2,
   "id": "688989bd-30e8-4f15-b22e-0786e5e5481a",
   "metadata": {},
   "outputs": [],
   "source": [
    "file = open('data.txt','x')\n",
    "file.close()"
   ]
  },
  {
   "cell_type": "code",
   "execution_count": 4,
   "id": "956c5b17-6956-4db9-aeba-82c9b3f3ed68",
   "metadata": {},
   "outputs": [],
   "source": [
    "# pwd"
   ]
  },
  {
   "cell_type": "code",
   "execution_count": 5,
   "id": "5f8b42c1-8301-4d19-91a7-8b52660f0ef1",
   "metadata": {},
   "outputs": [
    {
     "name": "stdout",
     "output_type": "stream",
     "text": [
      "1 Hello World\n",
      "2 Hello World\n",
      "3 Hello World\n",
      "4 Hello World\n",
      "5 Hello World\n",
      "6 Hello World\n"
     ]
    }
   ],
   "source": [
    "file = open('data.txt','r')\n",
    "data = file.read()\n",
    "file.close()\n",
    "print(data)"
   ]
  },
  {
   "cell_type": "code",
   "execution_count": 8,
   "id": "353c84d4-8192-41dd-90de-1c127a06cb8b",
   "metadata": {},
   "outputs": [
    {
     "data": {
      "text/plain": [
       "['1 Hello World',\n",
       " '2 Hello World',\n",
       " '3 Hello World',\n",
       " '4 Hello World',\n",
       " '5 Hello World',\n",
       " '6 Hello World']"
      ]
     },
     "execution_count": 8,
     "metadata": {},
     "output_type": "execute_result"
    }
   ],
   "source": [
    "lines = data.split(\"\\n\")\n",
    "lines"
   ]
  },
  {
   "cell_type": "code",
   "execution_count": 14,
   "id": "f4f461a5-d951-43a5-8aa4-e8931ada2eb8",
   "metadata": {},
   "outputs": [
    {
     "name": "stdin",
     "output_type": "stream",
     "text": [
      "Enter n =  3\n"
     ]
    },
    {
     "data": {
      "text/plain": [
       "'3 Hello World'"
      ]
     },
     "execution_count": 14,
     "metadata": {},
     "output_type": "execute_result"
    }
   ],
   "source": [
    "n = int(input(\"Enter n = \"))\n",
    "lines = data.split(\"\\n\")\n",
    "lines[n-1]"
   ]
  },
  {
   "cell_type": "code",
   "execution_count": 16,
   "id": "14e152ee-f156-46ee-b11a-2a35b4947639",
   "metadata": {},
   "outputs": [],
   "source": [
    "# write mode\n",
    "file = open('newdata.txt','w')\n",
    "file.write('Hello World I am Python')\n",
    "file.close()"
   ]
  },
  {
   "cell_type": "code",
   "execution_count": 17,
   "id": "0166bfd7-4da6-4959-beb4-256a3d7a574a",
   "metadata": {},
   "outputs": [
    {
     "data": {
      "text/plain": [
       "'C:\\\\Users\\\\Aayush\\\\new_Python_Class_8AM'"
      ]
     },
     "execution_count": 17,
     "metadata": {},
     "output_type": "execute_result"
    }
   ],
   "source": [
    "pwd"
   ]
  },
  {
   "cell_type": "code",
   "execution_count": 21,
   "id": "2d3d9946-e98c-413f-9a31-12a183486f6f",
   "metadata": {},
   "outputs": [],
   "source": [
    "bill = \"\"\n",
    "n = int(input(\"Enter n = \"))\n",
    "for i in range(n):\n",
    "    product = input(\"Enter product name = \")\n",
    "    price = int(input(\"Enter price = \"))\n",
    "    qty = float(input(\"Enter qty = \"))\n",
    "    total = price * qty\n",
    "    x = f\"{product}\\t{price}\\t{qty}\\t{total}\\n\"\n",
    "    bill = bill + x\n",
    "print(bill)\n",
    "\n",
    "file = open('bill.txt','w')\n",
    "file.write(bill)\n",
    "file.close()"
   ]
  },
  {
   "cell_type": "code",
   "execution_count": 22,
   "id": "98bc26f4-b35f-4aa4-aaa2-ba6702468c79",
   "metadata": {},
   "outputs": [
    {
     "data": {
      "text/plain": [
       "'Apple\\t200\\t2.0\\t400.0\\nBanana\\t100\\t3.0\\t300.0\\n'"
      ]
     },
     "execution_count": 22,
     "metadata": {},
     "output_type": "execute_result"
    }
   ],
   "source": [
    "file = open('bill.txt','r')\n",
    "data = file.read()\n",
    "file.close()\n",
    "data"
   ]
  },
  {
   "cell_type": "code",
   "execution_count": 32,
   "id": "6faec5ad-64f5-4b1b-80df-59de2c1f8955",
   "metadata": {},
   "outputs": [
    {
     "name": "stdout",
     "output_type": "stream",
     "text": [
      "['Apple', '200', '2.0', '400.0']\n",
      "['Banana', '100', '3.0', '300.0']\n"
     ]
    },
    {
     "data": {
      "text/plain": [
       "[['Apple', '200', '2.0', '400.0'], ['Banana', '100', '3.0', '300.0']]"
      ]
     },
     "execution_count": 32,
     "metadata": {},
     "output_type": "execute_result"
    }
   ],
   "source": [
    "final_list = []\n",
    "data_list = data.split(\"\\n\")[0:-1]\n",
    "\n",
    "for i in data_list:\n",
    "    x = i.split(\"\\t\")\n",
    "    print(x)\n",
    "    final_list.append(x)\n",
    "    \n",
    "final_list"
   ]
  },
  {
   "cell_type": "code",
   "execution_count": null,
   "id": "1b9612a8-3a9f-43e3-ad1d-527c2ab36fbc",
   "metadata": {},
   "outputs": [],
   "source": [
    "# CSV"
   ]
  },
  {
   "cell_type": "code",
   "execution_count": 35,
   "id": "ada60df5-185c-4911-ace0-e7debe93de1e",
   "metadata": {},
   "outputs": [
    {
     "name": "stdin",
     "output_type": "stream",
     "text": [
      "Enter n =  2\n",
      "Enter product name =  Apple\n",
      "Enter price =  200\n",
      "Enter qty =  3\n",
      "Enter product name =  Banana\n",
      "Enter price =  100\n",
      "Enter qty =  4\n"
     ]
    },
    {
     "name": "stdout",
     "output_type": "stream",
     "text": [
      "Apple,200,3.0,600.0\n",
      "Banana,100,4.0,400.0\n",
      "\n"
     ]
    }
   ],
   "source": [
    "bill = \"\"\n",
    "n = int(input(\"Enter n = \"))\n",
    "for i in range(n):\n",
    "    product = input(\"Enter product name = \")\n",
    "    price = int(input(\"Enter price = \"))\n",
    "    qty = float(input(\"Enter qty = \"))\n",
    "    total = price * qty\n",
    "    x = f\"{product},{price},{qty},{total}\\n\"\n",
    "    bill = bill + x\n",
    "print(bill)\n",
    "\n",
    "file = open('bill.csv','w')\n",
    "file.write('Product,Price,Qty,Total\\n')\n",
    "file.write(bill)\n",
    "file.close()"
   ]
  },
  {
   "cell_type": "code",
   "execution_count": 34,
   "id": "ae2b275f-d91e-4864-b147-c22dc6bcc2a5",
   "metadata": {},
   "outputs": [
    {
     "data": {
      "text/plain": [
       "'C:\\\\Users\\\\Aayush\\\\new_Python_Class_8AM'"
      ]
     },
     "execution_count": 34,
     "metadata": {},
     "output_type": "execute_result"
    }
   ],
   "source": [
    "pwd"
   ]
  },
  {
   "cell_type": "code",
   "execution_count": 38,
   "id": "17458359-7990-49ce-96e8-e9338741b1e6",
   "metadata": {},
   "outputs": [
    {
     "data": {
      "text/plain": [
       "27"
      ]
     },
     "execution_count": 38,
     "metadata": {},
     "output_type": "execute_result"
    }
   ],
   "source": [
    "file = open('append_bill.csv','a')\n",
    "file.write('SN,Product,Price,Qty,Total\\n')"
   ]
  },
  {
   "cell_type": "code",
   "execution_count": 40,
   "id": "bdd78c18-fa20-4ac6-a4f2-e6f062f534ed",
   "metadata": {},
   "outputs": [
    {
     "name": "stdin",
     "output_type": "stream",
     "text": [
      "Enter n =  2\n",
      "Enter product name =  Coke\n",
      "Enter price =  200\n",
      "Enter qty =  3\n",
      "Enter product name =  Momo\n",
      "Enter price =  100\n",
      "Enter qty =  3\n"
     ]
    },
    {
     "name": "stdout",
     "output_type": "stream",
     "text": [
      "1,Coke,200,3.0,600.0\n",
      "2,Momo,100,3.0,300.0\n",
      "\n"
     ]
    },
    {
     "data": {
      "text/plain": [
       "42"
      ]
     },
     "execution_count": 40,
     "metadata": {},
     "output_type": "execute_result"
    }
   ],
   "source": [
    "bill = \"\"\n",
    "n = int(input(\"Enter n = \"))\n",
    "for i in range(1,n+1):\n",
    "    product = input(\"Enter product name = \")\n",
    "    price = int(input(\"Enter price = \"))\n",
    "    qty = float(input(\"Enter qty = \"))\n",
    "    total = price * qty\n",
    "    x = f\"{i},{product},{price},{qty},{total}\\n\"\n",
    "    bill = bill + x\n",
    "print(bill)\n",
    "\n",
    "# file = open('bill.csv','w')\n",
    "# file.write('Product,Price,Qty,Total\\n')\n",
    "file.write(bill)\n"
   ]
  },
  {
   "cell_type": "code",
   "execution_count": 41,
   "id": "628c5848-faa7-4a2c-8798-d5292b31c8d8",
   "metadata": {},
   "outputs": [],
   "source": [
    "file.close()"
   ]
  },
  {
   "cell_type": "code",
   "execution_count": 42,
   "id": "07b0677c-3602-4ef9-8aed-d5a368c6a15c",
   "metadata": {},
   "outputs": [
    {
     "data": {
      "text/html": [
       "<div>\n",
       "<style scoped>\n",
       "    .dataframe tbody tr th:only-of-type {\n",
       "        vertical-align: middle;\n",
       "    }\n",
       "\n",
       "    .dataframe tbody tr th {\n",
       "        vertical-align: top;\n",
       "    }\n",
       "\n",
       "    .dataframe thead th {\n",
       "        text-align: right;\n",
       "    }\n",
       "</style>\n",
       "<table border=\"1\" class=\"dataframe\">\n",
       "  <thead>\n",
       "    <tr style=\"text-align: right;\">\n",
       "      <th></th>\n",
       "      <th>SN</th>\n",
       "      <th>Product</th>\n",
       "      <th>Price</th>\n",
       "      <th>Qty</th>\n",
       "      <th>Total</th>\n",
       "    </tr>\n",
       "  </thead>\n",
       "  <tbody>\n",
       "    <tr>\n",
       "      <th>0</th>\n",
       "      <td>1</td>\n",
       "      <td>Apple</td>\n",
       "      <td>300</td>\n",
       "      <td>4.0</td>\n",
       "      <td>1200.0</td>\n",
       "    </tr>\n",
       "    <tr>\n",
       "      <th>1</th>\n",
       "      <td>1</td>\n",
       "      <td>Coke</td>\n",
       "      <td>200</td>\n",
       "      <td>3.0</td>\n",
       "      <td>600.0</td>\n",
       "    </tr>\n",
       "    <tr>\n",
       "      <th>2</th>\n",
       "      <td>2</td>\n",
       "      <td>Momo</td>\n",
       "      <td>100</td>\n",
       "      <td>3.0</td>\n",
       "      <td>300.0</td>\n",
       "    </tr>\n",
       "  </tbody>\n",
       "</table>\n",
       "</div>"
      ],
      "text/plain": [
       "   SN Product  Price  Qty   Total\n",
       "0   1   Apple    300  4.0  1200.0\n",
       "1   1    Coke    200  3.0   600.0\n",
       "2   2    Momo    100  3.0   300.0"
      ]
     },
     "execution_count": 42,
     "metadata": {},
     "output_type": "execute_result"
    }
   ],
   "source": [
    "import pandas as pd\n",
    "df = pd.read_csv('append_bill.csv')\n",
    "df"
   ]
  },
  {
   "cell_type": "code",
   "execution_count": null,
   "id": "20f651b4-30e7-4370-a219-99d3fb44b4bd",
   "metadata": {},
   "outputs": [],
   "source": []
  }
 ],
 "metadata": {
  "kernelspec": {
   "display_name": "Python 3 (ipykernel)",
   "language": "python",
   "name": "python3"
  },
  "language_info": {
   "codemirror_mode": {
    "name": "ipython",
    "version": 3
   },
   "file_extension": ".py",
   "mimetype": "text/x-python",
   "name": "python",
   "nbconvert_exporter": "python",
   "pygments_lexer": "ipython3",
   "version": "3.13.3"
  }
 },
 "nbformat": 4,
 "nbformat_minor": 5
}
