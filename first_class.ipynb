{
 "cells": [
  {
   "cell_type": "code",
   "execution_count": 10,
   "id": "ae293987-7d46-4a47-8df7-81dfe66e7138",
   "metadata": {},
   "outputs": [
    {
     "name": "stdout",
     "output_type": "stream",
     "text": [
      "10\n"
     ]
    }
   ],
   "source": [
    "a  = 10\n",
    "print(a)"
   ]
  },
  {
   "cell_type": "code",
   "execution_count": 12,
   "id": "67d954e8-a53e-4442-9304-b57fe260e099",
   "metadata": {},
   "outputs": [
    {
     "name": "stdout",
     "output_type": "stream",
     "text": [
      "10\n",
      "10.5\n",
      "Hello World\n",
      "True\n",
      "10 10.5 Hello World True\n"
     ]
    }
   ],
   "source": [
    "a = 10             #int    only 0-9\n",
    "b = 10.5           #float  0-9 with .\n",
    "c = 'Hello World'  #str    anything between '' or \"\" \n",
    "d = True           #bool   only True False\n",
    "\n",
    "print(a)\n",
    "print(b)\n",
    "print(c)\n",
    "print(d)\n",
    "\n",
    "print(a,b,c,d)"
   ]
  },
  {
   "cell_type": "code",
   "execution_count": 21,
   "id": "35a71337-c74e-4279-a493-314738621fd0",
   "metadata": {},
   "outputs": [],
   "source": [
    "#operators in Python"
   ]
  },
  {
   "cell_type": "code",
   "execution_count": 22,
   "id": "de18297f-2fa2-4eae-b446-c5fdbc3addca",
   "metadata": {},
   "outputs": [],
   "source": [
    "# + - * / ** // %"
   ]
  },
  {
   "cell_type": "code",
   "execution_count": 24,
   "id": "7a797b9c-1603-43ec-aa69-de4d35ed6843",
   "metadata": {},
   "outputs": [
    {
     "name": "stdout",
     "output_type": "stream",
     "text": [
      "13\n",
      "7\n",
      "30\n",
      "3.3333333333333335\n",
      "1000\n",
      "3\n",
      "1\n"
     ]
    }
   ],
   "source": [
    "a = 10\n",
    "b = 3\n",
    "print(a+b)\n",
    "print(a-b)\n",
    "print(a*b)\n",
    "print(a/b)\n",
    "\n",
    "print(a**b)\n",
    "print(a//b)\n",
    "print(a%b)"
   ]
  },
  {
   "cell_type": "code",
   "execution_count": 25,
   "id": "2b71a758-425d-4a0d-94d5-9afa7725aa50",
   "metadata": {},
   "outputs": [
    {
     "name": "stdout",
     "output_type": "stream",
     "text": [
      "HelloWorld\n"
     ]
    }
   ],
   "source": [
    "#String\n",
    "a = \"Hello\"\n",
    "b = \"World\"\n",
    "c = a+b\n",
    "print(c)"
   ]
  },
  {
   "cell_type": "code",
   "execution_count": 31,
   "id": "7cdcc060-d9e2-4e56-93bc-5e490456e02e",
   "metadata": {},
   "outputs": [
    {
     "name": "stdout",
     "output_type": "stream",
     "text": [
      "1010\n"
     ]
    }
   ],
   "source": [
    "a = \"10\"\n",
    "b = \"10\"\n",
    "c = a + b\n",
    "print(c)"
   ]
  },
  {
   "cell_type": "code",
   "execution_count": 32,
   "id": "4e99bbea-0f2a-4acb-8ec2-76f592c38ec1",
   "metadata": {},
   "outputs": [
    {
     "name": "stdout",
     "output_type": "stream",
     "text": [
      "Hello WorldHello World\n"
     ]
    }
   ],
   "source": [
    "a = \"Hello World\"\n",
    "print(a*2)"
   ]
  },
  {
   "cell_type": "code",
   "execution_count": 33,
   "id": "029a9c86-e5e9-4685-bab0-3dd9c45cf8b8",
   "metadata": {},
   "outputs": [],
   "source": [
    "#bool"
   ]
  },
  {
   "cell_type": "code",
   "execution_count": 34,
   "id": "ff70ed72-06a9-4768-80f5-f8b749b5ab2e",
   "metadata": {},
   "outputs": [
    {
     "name": "stdout",
     "output_type": "stream",
     "text": [
      "1\n"
     ]
    }
   ],
   "source": [
    "a = True\n",
    "b = False\n",
    "c = a+b\n",
    "print(c)"
   ]
  },
  {
   "cell_type": "code",
   "execution_count": 35,
   "id": "8b55686e-08ea-402d-9f21-96e31a793e5b",
   "metadata": {},
   "outputs": [
    {
     "name": "stdout",
     "output_type": "stream",
     "text": [
      "0\n"
     ]
    }
   ],
   "source": [
    "a = True\n",
    "b = False\n",
    "c = a*b\n",
    "print(c)"
   ]
  },
  {
   "cell_type": "code",
   "execution_count": 1,
   "id": "3d265c0a-5bbc-4215-ba52-4f4809f18f19",
   "metadata": {},
   "outputs": [],
   "source": [
    "# Data Type"
   ]
  },
  {
   "cell_type": "code",
   "execution_count": 2,
   "id": "15e4bfc5-b6fd-426d-a475-8df9f8bdb80b",
   "metadata": {},
   "outputs": [],
   "source": [
    "a = 10             #int    only 0-9\n",
    "b = 10.5           #float  0-9 with .\n",
    "c = 'Hello World'  #str    anything between '' or \"\" \n",
    "d = True           #bool"
   ]
  },
  {
   "cell_type": "code",
   "execution_count": 4,
   "id": "95cc2159-ee6b-4e17-826c-772fcf43f6cf",
   "metadata": {},
   "outputs": [
    {
     "name": "stdout",
     "output_type": "stream",
     "text": [
      "<class 'int'>\n",
      "<class 'float'>\n",
      "<class 'str'>\n",
      "<class 'bool'>\n"
     ]
    }
   ],
   "source": [
    "print(type(a))\n",
    "print(type(b))\n",
    "print(type(c))\n",
    "print(type(d))"
   ]
  },
  {
   "cell_type": "code",
   "execution_count": null,
   "id": "04e64e55-9855-4eec-b131-66dca3961777",
   "metadata": {},
   "outputs": [],
   "source": [
    "# int() float() str() bool()"
   ]
  },
  {
   "cell_type": "code",
   "execution_count": 5,
   "id": "19b26e70-7ecc-4ce4-aeae-86907dac9f6b",
   "metadata": {},
   "outputs": [
    {
     "name": "stdout",
     "output_type": "stream",
     "text": [
      "10.0\n"
     ]
    }
   ],
   "source": [
    "# int to float\n",
    "a = 10\n",
    "b = float(a)\n",
    "print(b)"
   ]
  },
  {
   "cell_type": "code",
   "execution_count": 6,
   "id": "f581d7f8-be54-4a42-bd3c-7a510619be46",
   "metadata": {},
   "outputs": [
    {
     "name": "stdout",
     "output_type": "stream",
     "text": [
      "10\n"
     ]
    }
   ],
   "source": [
    "#float to int\n",
    "a = 10.5\n",
    "b = int(a)\n",
    "print(b)"
   ]
  },
  {
   "cell_type": "code",
   "execution_count": 8,
   "id": "8d6468ce-84cc-4e57-ab66-899092dceb5e",
   "metadata": {},
   "outputs": [
    {
     "name": "stdout",
     "output_type": "stream",
     "text": [
      "10.5\n"
     ]
    }
   ],
   "source": [
    "#int or float to string\n",
    "a = 10.5\n",
    "b = str(a)\n",
    "print(b)"
   ]
  },
  {
   "cell_type": "code",
   "execution_count": 11,
   "id": "f9205958-6213-46da-b4c8-ab0c06501c4e",
   "metadata": {},
   "outputs": [
    {
     "name": "stdout",
     "output_type": "stream",
     "text": [
      "10.5\n"
     ]
    }
   ],
   "source": [
    "#str to float\n",
    "a = '10.5'\n",
    "b = float(a)\n",
    "print(b)"
   ]
  },
  {
   "cell_type": "code",
   "execution_count": 12,
   "id": "9e5ce024-a44c-4295-8fd0-72cbcfd77bb3",
   "metadata": {},
   "outputs": [
    {
     "name": "stdout",
     "output_type": "stream",
     "text": [
      "False\n"
     ]
    }
   ],
   "source": [
    "#int to bool\n",
    "a = 0\n",
    "b = bool(a)\n",
    "print(b)"
   ]
  },
  {
   "cell_type": "code",
   "execution_count": 19,
   "id": "798a164b-4672-4be2-95d0-40603cbe425a",
   "metadata": {},
   "outputs": [
    {
     "name": "stdout",
     "output_type": "stream",
     "text": [
      "False\n"
     ]
    }
   ],
   "source": [
    "#str to bool\n",
    "a = ''\n",
    "b = bool(a)\n",
    "print(b)"
   ]
  },
  {
   "cell_type": "code",
   "execution_count": 20,
   "id": "d97e7386-114c-4a53-85af-e703f50fa955",
   "metadata": {},
   "outputs": [],
   "source": [
    "# user defined variable"
   ]
  },
  {
   "cell_type": "code",
   "execution_count": null,
   "id": "dda12b27-6bef-4e14-9cfa-1d701668db34",
   "metadata": {},
   "outputs": [],
   "source": [
    "a = input()"
   ]
  },
  {
   "cell_type": "code",
   "execution_count": 3,
   "id": "1842dfea-3cb9-4455-b004-95e2ea0eef6d",
   "metadata": {},
   "outputs": [
    {
     "name": "stdin",
     "output_type": "stream",
     "text": [
      "Enter a =  10.5\n",
      "Enter b =  20.3\n"
     ]
    },
    {
     "name": "stdout",
     "output_type": "stream",
     "text": [
      "30.8\n"
     ]
    }
   ],
   "source": [
    "a = int(input(\"Enter a = \"))\n",
    "b = int(input(\"Enter b = \"))\n",
    "c = a+b\n",
    "print(c)"
   ]
  },
  {
   "cell_type": "code",
   "execution_count": 4,
   "id": "b0aee360-189a-481c-9223-131bc5276358",
   "metadata": {},
   "outputs": [
    {
     "name": "stdin",
     "output_type": "stream",
     "text": [
      "Enter p =  10000\n",
      "Enter = t  10\n",
      "Enter r =  10.5\n"
     ]
    },
    {
     "name": "stdout",
     "output_type": "stream",
     "text": [
      "The value of i =  10500.0\n"
     ]
    }
   ],
   "source": [
    "p = int(input(\"Enter p = \"))\n",
    "t = float(input(\"Enter t =\"))\n",
    "r = float(input(\"Enter r = \"))\n",
    "\n",
    "i = p*t*r/100\n",
    "\n",
    "print(\"The value \", i)"
   ]
  },
  {
   "cell_type": "code",
   "execution_count": 8,
   "id": "28339837-2e1d-496b-8fa0-ed7795375f9e",
   "metadata": {},
   "outputs": [],
   "source": [
    "# WAP to calculate area of circle"
   ]
  },
  {
   "cell_type": "code",
   "execution_count": 10,
   "id": "0c9d1ac8-7b4f-44c0-9cd2-ab80663ddcd2",
   "metadata": {},
   "outputs": [
    {
     "name": "stdin",
     "output_type": "stream",
     "text": [
      "Enter radius =  7\n"
     ]
    },
    {
     "name": "stdout",
     "output_type": "stream",
     "text": [
      "The area of circle =  153.86\n"
     ]
    }
   ],
   "source": [
    "pi = 3.14\n",
    "r = float(input(\"Enter radius = \"))\n",
    "a = 3.14*r**2\n",
    "print(\"The area of circle = \",a)"
   ]
  },
  {
   "cell_type": "code",
   "execution_count": null,
   "id": "6466f773-e75f-44b7-a4f6-f77dfa60362d",
   "metadata": {},
   "outputs": [],
   "source": []
  },
  {
   "cell_type": "code",
   "execution_count": 12,
   "id": "dc66e908-e540-47f3-96bc-c03f9034c257",
   "metadata": {},
   "outputs": [
    {
     "name": "stdin",
     "output_type": "stream",
     "text": [
      "Enter physics marks =  89\n",
      "Enter chemistry marks =  87\n",
      "Enter math marks =  89\n",
      "Enter english marks =  67\n",
      "Enter nepali marks =  90\n"
     ]
    },
    {
     "name": "stdout",
     "output_type": "stream",
     "text": [
      "The total marks =  422\n",
      "The per =  84.4 %\n"
     ]
    }
   ],
   "source": [
    "physics = int(input(\"Enter physics marks = \"))\n",
    "chemistry = int(input(\"Enter chemistry marks = \"))\n",
    "math = int(input(\"Enter math marks = \"))\n",
    "english = int(input(\"Enter english marks = \"))\n",
    "nepali = int(input(\"Enter nepali marks = \"))\n",
    "\n",
    "total = physics + chemistry + math + english + nepali\n",
    "per = total/5\n",
    "\n",
    "print(\"The total marks = \",total)\n",
    "print(\"The per = \",per,\"%\")"
   ]
  },
  {
   "cell_type": "code",
   "execution_count": null,
   "id": "d5b65575-4da1-4fbc-82e3-c0897b70b4d1",
   "metadata": {},
   "outputs": [],
   "source": []
  }
 ],
 "metadata": {
  "kernelspec": {
   "display_name": "Python 3 (ipykernel)",
   "language": "python",
   "name": "python3"
  },
  "language_info": {
   "codemirror_mode": {
    "name": "ipython",
    "version": 3
   },
   "file_extension": ".py",
   "mimetype": "text/x-python",
   "name": "python",
   "nbconvert_exporter": "python",
   "pygments_lexer": "ipython3",
   "version": "3.13.3"
  }
 },
 "nbformat": 4,
 "nbformat_minor": 5
}
