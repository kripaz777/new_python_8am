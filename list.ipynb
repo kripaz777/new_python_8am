{
 "cells": [
  {
   "cell_type": "code",
   "execution_count": 1,
   "id": "69f4edf9-b6cf-46c2-b24c-b05b2933f55d",
   "metadata": {},
   "outputs": [],
   "source": [
    "# Python collections\n",
    "# List\n",
    "# Tuple\n",
    "# Dict\n",
    "# Set"
   ]
  },
  {
   "cell_type": "code",
   "execution_count": 2,
   "id": "1a496b3a-b961-4b51-8c9a-9f016ebb777e",
   "metadata": {},
   "outputs": [],
   "source": [
    "# List\n",
    "# -Indexing\n",
    "# -Multiple and duplicate\n",
    "# -Ordered\n",
    "# -Mutable"
   ]
  },
  {
   "cell_type": "code",
   "execution_count": null,
   "id": "36fdc242-be73-4c94-be22-9748637cbfdc",
   "metadata": {},
   "outputs": [],
   "source": [
    "l = list()"
   ]
  },
  {
   "cell_type": "code",
   "execution_count": 6,
   "id": "e6725627-472c-4bc3-a010-e8cfdd9b187c",
   "metadata": {},
   "outputs": [
    {
     "name": "stdout",
     "output_type": "stream",
     "text": [
      "[1, 2, 3, 4, 5, 6, 7, 8, 9, 10, 1]\n",
      "['Apple', 'Ball', 'Cat', 'Dog', 'Fish', 'Apple']\n",
      "<class 'list'>\n",
      "<class 'list'>\n"
     ]
    }
   ],
   "source": [
    "a = [1,2,3,4,5,6,7,8,9,10,1]\n",
    "b = [\"Apple\",\"Ball\",\"Cat\",\"Dog\",\"Fish\",\"Apple\"]\n",
    "print(a)\n",
    "print(b)\n",
    "print(type(a))\n",
    "print(type(b))"
   ]
  },
  {
   "cell_type": "code",
   "execution_count": 15,
   "id": "db77f9ea-df20-4f4a-bdbc-d896f03874d5",
   "metadata": {},
   "outputs": [
    {
     "name": "stdout",
     "output_type": "stream",
     "text": [
      "Apple\n",
      "['Apple', 'Ball', 'Cat']\n",
      "['Apple', 'Cat', 'Fish']\n"
     ]
    }
   ],
   "source": [
    "b = [\"Apple\",\"Ball\",\"Cat\",\"Dog\",\"Fish\",\"Apple\"]\n",
    "print(b[0])\n",
    "print(b[0:3])\n",
    "print(b[0:6:2])"
   ]
  },
  {
   "cell_type": "code",
   "execution_count": 17,
   "id": "08388b42-9552-48ab-a571-bab6e2b904c6",
   "metadata": {},
   "outputs": [
    {
     "name": "stdout",
     "output_type": "stream",
     "text": [
      "Fish\n"
     ]
    }
   ],
   "source": [
    "b = [\"Apple\",\"Ball\",\"Cat\",\"Dog\",\"Fish\",\"Apple\"]\n",
    "print(b[-2])"
   ]
  },
  {
   "cell_type": "code",
   "execution_count": 18,
   "id": "dd573b62-304b-4192-bcb7-ee25b3bb61cd",
   "metadata": {},
   "outputs": [
    {
     "name": "stdout",
     "output_type": "stream",
     "text": [
      "[1, 2, 3, 4, 5, 6]\n"
     ]
    }
   ],
   "source": [
    "a = [1,2,3]\n",
    "b = [4,5,6]\n",
    "c = a+b\n",
    "print(c)"
   ]
  },
  {
   "cell_type": "code",
   "execution_count": 19,
   "id": "59af66be-bdb5-42a6-91a2-93aca2dfd7a2",
   "metadata": {},
   "outputs": [
    {
     "name": "stdout",
     "output_type": "stream",
     "text": [
      "['Hello', 'World', 'Hello', 'World']\n"
     ]
    }
   ],
   "source": [
    "a = [\"Hello\",\"World\"]\n",
    "print(a*2)"
   ]
  },
  {
   "cell_type": "code",
   "execution_count": 21,
   "id": "14273f6b-097b-423d-ac80-b262c4b7cb94",
   "metadata": {},
   "outputs": [
    {
     "name": "stdout",
     "output_type": "stream",
     "text": [
      "Apple\n",
      "Ball\n",
      "Cat\n"
     ]
    }
   ],
   "source": [
    "b = [\"Apple\",\"Ball\",\"Cat\"]\n",
    "for i in b:\n",
    "    print(i)"
   ]
  },
  {
   "cell_type": "code",
   "execution_count": 23,
   "id": "572138ab-8202-4698-a8e1-58a2fe695e0d",
   "metadata": {},
   "outputs": [
    {
     "data": {
      "text/plain": [
       "[10, 5]"
      ]
     },
     "execution_count": 23,
     "metadata": {},
     "output_type": "execute_result"
    }
   ],
   "source": [
    "[10] + [5]"
   ]
  },
  {
   "cell_type": "code",
   "execution_count": 27,
   "id": "3e00c760-d9be-4977-822d-416d06f7ebda",
   "metadata": {},
   "outputs": [
    {
     "name": "stdin",
     "output_type": "stream",
     "text": [
      "Enter n =  10\n",
      "Enter x =  234\n",
      "Enter x =  465\n",
      "Enter x =  768\n",
      "Enter x =  45\n",
      "Enter x =  756\n",
      "Enter x =  345\n",
      "Enter x =  678\n",
      "Enter x =  809\n",
      "Enter x =  435\n",
      "Enter x =  768\n"
     ]
    },
    {
     "name": "stdout",
     "output_type": "stream",
     "text": [
      "[234, 465, 768, 45, 756, 345, 678, 809, 435, 768]\n"
     ]
    }
   ],
   "source": [
    "l = []\n",
    "n = int(input(\"Enter n = \"))\n",
    "for i in range(n):\n",
    "    x = int(input(\"Enter x = \"))\n",
    "    l = l + [x]\n",
    "\n",
    "print(l)\n"
   ]
  },
  {
   "cell_type": "code",
   "execution_count": 33,
   "id": "f373204b-0604-48f8-b0c1-3da8cbe814e4",
   "metadata": {},
   "outputs": [
    {
     "name": "stdout",
     "output_type": "stream",
     "text": [
      "Min value = 45\n",
      "Min value = 809\n",
      "sum of value = 5303\n",
      "[45, 234, 345, 435, 465, 678, 756, 768, 768, 809]\n",
      "[809, 768, 768, 756, 678, 465, 435, 345, 234, 45]\n"
     ]
    }
   ],
   "source": [
    "print(\"Min value =\", min(l))\n",
    "print(\"Min value =\", max(l))\n",
    "print(\"sum of value =\", sum(l))\n",
    "l.sort()\n",
    "print(l)\n",
    "l.reverse()\n",
    "print(l)"
   ]
  },
  {
   "cell_type": "code",
   "execution_count": 37,
   "id": "11a005f0-de1b-4a19-8cec-a91cf41e4d8c",
   "metadata": {},
   "outputs": [
    {
     "data": {
      "text/plain": [
       "['Aaksh', 'Apple', 'Banana', 'Xray', 'Zebra']"
      ]
     },
     "execution_count": 37,
     "metadata": {},
     "output_type": "execute_result"
    }
   ],
   "source": [
    "a = [\"Banana\",\"Apple\",\"Aaksh\",\"Zebra\",\"Xray\"]\n",
    "a.sort()\n",
    "a"
   ]
  },
  {
   "cell_type": "code",
   "execution_count": 38,
   "id": "f1709afd-4a49-42ea-99e4-0e1e648ccb85",
   "metadata": {},
   "outputs": [],
   "source": [
    "# # CRUD operation\n",
    "# c -> ceate\n",
    "# r -> read\n",
    "# u -> update\n",
    "# d -> delete"
   ]
  },
  {
   "cell_type": "code",
   "execution_count": null,
   "id": "f6015e4c-afa6-4ff0-b33e-02267c356bf5",
   "metadata": {},
   "outputs": [],
   "source": [
    "# create\n",
    "# append() insert() extend()"
   ]
  },
  {
   "cell_type": "code",
   "execution_count": 40,
   "id": "8c3b9171-e94a-490b-995c-c89c8d144e9a",
   "metadata": {},
   "outputs": [
    {
     "name": "stdout",
     "output_type": "stream",
     "text": [
      "['Apple', 'Ball', 'Cat']\n"
     ]
    }
   ],
   "source": [
    "l = []\n",
    "l.append(\"Apple\")\n",
    "l.append(\"Ball\")\n",
    "l.append(\"Cat\")\n",
    "print(l)"
   ]
  },
  {
   "cell_type": "code",
   "execution_count": null,
   "id": "ed7e174d-3f99-497e-85f7-f282b9b99ee3",
   "metadata": {},
   "outputs": [],
   "source": [
    "#append()\n",
    "l = []\n",
    "n = int(input(\"Enter n = \"))\n",
    "for i in range(n):\n",
    "    x = int(input(\"Enter x = \"))\n",
    "    l.append(x)\n",
    "\n",
    "print(l)\n"
   ]
  },
  {
   "cell_type": "code",
   "execution_count": 43,
   "id": "8fb61fa6-f11f-4044-96ef-d74a845a8c06",
   "metadata": {},
   "outputs": [
    {
     "name": "stdout",
     "output_type": "stream",
     "text": [
      "['Aaksh', 'Apple', 'apple', 'Banana', 'Xray', 'Zebra']\n"
     ]
    }
   ],
   "source": [
    "#insert()\n",
    "a = ['Aaksh', 'Apple', 'Banana', 'Xray', 'Zebra']\n",
    "a.insert(2,\"apple\")\n",
    "print(a)"
   ]
  },
  {
   "cell_type": "code",
   "execution_count": 44,
   "id": "cd9ba2fa-14ec-4230-bbd5-49d3997238da",
   "metadata": {},
   "outputs": [
    {
     "name": "stdout",
     "output_type": "stream",
     "text": [
      "[1, 2, 3, 4, 5, 6, 7, 8, 9]\n"
     ]
    }
   ],
   "source": [
    "# extend()\n",
    "a = [1,2,3,4,5]\n",
    "b = [6,7,8,9]\n",
    "a.extend(b)\n",
    "print(a)"
   ]
  },
  {
   "cell_type": "code",
   "execution_count": 46,
   "id": "a8f14ddf-1427-4587-9e77-ab8bf5651357",
   "metadata": {},
   "outputs": [
    {
     "data": {
      "text/plain": [
       "['Nabin', 'Apple', 'Banana', 'Xray', 'Zebra']"
      ]
     },
     "execution_count": 46,
     "metadata": {},
     "output_type": "execute_result"
    }
   ],
   "source": [
    "# Update\n",
    "a = ['Aaksh', 'Apple', 'Banana', 'Xray', 'Zebra']\n",
    "a[0] = \"Nabin\"\n",
    "a"
   ]
  },
  {
   "cell_type": "code",
   "execution_count": 48,
   "id": "3c529a2e-753e-416b-9b5e-c080820794a1",
   "metadata": {},
   "outputs": [
    {
     "data": {
      "text/plain": [
       "['Sita', 'Gita', 'Banana', 'Xray', 'Zebra']"
      ]
     },
     "execution_count": 48,
     "metadata": {},
     "output_type": "execute_result"
    }
   ],
   "source": [
    "a = ['Aaksh', 'Apple', 'Banana', 'Xray', 'Zebra']\n",
    "a[0:2] = [\"Sita\",\"Gita\"]\n",
    "a"
   ]
  },
  {
   "cell_type": "code",
   "execution_count": 49,
   "id": "ddc6c28f-0ef3-47a5-a01d-452b33c92cbf",
   "metadata": {},
   "outputs": [],
   "source": [
    "# delete\n",
    "# del remove() pop()"
   ]
  },
  {
   "cell_type": "code",
   "execution_count": 50,
   "id": "d79b33ca-165e-4de1-8a11-f05d4e2dcd4b",
   "metadata": {},
   "outputs": [
    {
     "name": "stdout",
     "output_type": "stream",
     "text": [
      "['Apple', 'Banana', 'Xray', 'Zebra']\n"
     ]
    }
   ],
   "source": [
    "a = ['Aaksh', 'Apple', 'Banana', 'Xray', 'Zebra']\n",
    "del a[0]\n",
    "print(a)"
   ]
  },
  {
   "cell_type": "code",
   "execution_count": 51,
   "id": "3276bd29-6ee8-4452-9d9a-09ef4ceb75d4",
   "metadata": {},
   "outputs": [
    {
     "name": "stdout",
     "output_type": "stream",
     "text": [
      "['Banana', 'Xray', 'Zebra']\n"
     ]
    }
   ],
   "source": [
    "a = ['Aaksh', 'Apple', 'Banana', 'Xray', 'Zebra']\n",
    "del a[0:2]\n",
    "print(a)"
   ]
  },
  {
   "cell_type": "code",
   "execution_count": 52,
   "id": "ec1ef945-ef95-45a6-b867-2df2746bdd66",
   "metadata": {},
   "outputs": [
    {
     "name": "stdout",
     "output_type": "stream",
     "text": [
      "['Aaksh', 'Banana', 'Xray', 'Zebra']\n"
     ]
    }
   ],
   "source": [
    "#remove()\n",
    "a = ['Aaksh', 'Apple', 'Banana', 'Xray', 'Zebra']\n",
    "a.remove(\"Apple\")\n",
    "print(a)"
   ]
  },
  {
   "cell_type": "code",
   "execution_count": 53,
   "id": "6e8376fb-9550-4773-a0ba-9e1d1b2dd453",
   "metadata": {},
   "outputs": [
    {
     "name": "stdout",
     "output_type": "stream",
     "text": [
      "['Aaksh', 'Apple', 'Banana', 'Xray']\n"
     ]
    }
   ],
   "source": [
    "a = ['Aaksh', 'Apple', 'Banana', 'Xray', 'Zebra']\n",
    "a.pop(3)\n",
    "print(a)"
   ]
  },
  {
   "cell_type": "code",
   "execution_count": 1,
   "id": "f9b7b9a5-8b30-4aa1-9b1d-654f931194b2",
   "metadata": {},
   "outputs": [],
   "source": [
    "# Nested list (list inside list)"
   ]
  },
  {
   "cell_type": "code",
   "execution_count": 3,
   "id": "12924710-c759-4e3e-b20a-a278e77bb64b",
   "metadata": {},
   "outputs": [
    {
     "name": "stdout",
     "output_type": "stream",
     "text": [
      "3\n"
     ]
    }
   ],
   "source": [
    "a = [[1,2,3],[4,5,6],[7,8,9]]\n",
    "print(len(a))"
   ]
  },
  {
   "cell_type": "code",
   "execution_count": 5,
   "id": "d39b8344-d66e-45f2-824a-7fc79052591d",
   "metadata": {},
   "outputs": [
    {
     "name": "stdout",
     "output_type": "stream",
     "text": [
      "[['Ram', 34, 'Kathmandu'], ['Shyam', 45, 'Bhaktapur'], ['Hari', 34, 'Lalitpur']]\n"
     ]
    }
   ],
   "source": [
    "a = [[\"Ram\",34,\"Kathmandu\"],\n",
    "    [\"Shyam\",45,\"Bhaktapur\"],\n",
    "    [\"Hari\",34,\"Lalitpur\"]]\n",
    "print(a)"
   ]
  },
  {
   "cell_type": "code",
   "execution_count": 6,
   "id": "b430670c-ef2f-451b-abdb-e0cc4a6ac02b",
   "metadata": {},
   "outputs": [
    {
     "name": "stdin",
     "output_type": "stream",
     "text": [
      "Enter n =  2\n",
      "Enter name =  Ram\n",
      "Enter age =  67\n",
      "Enter add =  Kathmandu\n",
      "Enter name =  Shyam\n",
      "Enter age =  56\n",
      "Enter add =  Lalitpur\n"
     ]
    },
    {
     "name": "stdout",
     "output_type": "stream",
     "text": [
      "[['Ram', 67, 'Kathmandu'], ['Shyam', 56, 'Lalitpur']]\n"
     ]
    }
   ],
   "source": [
    "data = []\n",
    "n = int(input(\"Enter n = \"))\n",
    "for i in range(n):\n",
    "    name = input(\"Enter name = \")\n",
    "    age = int(input(\"Enter age = \"))\n",
    "    add = input(\"Enter add = \")\n",
    "    x = [name,age,add]\n",
    "    data.append(x)\n",
    "\n",
    "print(data)"
   ]
  },
  {
   "cell_type": "code",
   "execution_count": 17,
   "id": "666d1f83-5077-4cd3-99fe-50e891147e01",
   "metadata": {},
   "outputs": [
    {
     "name": "stdout",
     "output_type": "stream",
     "text": [
      "['Ram', 34, 'Kathmandu']\n",
      "Ram\n"
     ]
    }
   ],
   "source": [
    "#indexing\n",
    "a = [['Ram', 34, 'Kathmandu'], \n",
    "     ['Shyam', 45, 'Bhaktapur'], \n",
    "     ['Hari', 34, 'Lalitpur']]\n",
    "print(a[0])\n",
    "print(a[0][0])"
   ]
  },
  {
   "cell_type": "code",
   "execution_count": 18,
   "id": "773d5167-515f-4541-8a8c-91752d71f13f",
   "metadata": {},
   "outputs": [
    {
     "data": {
      "text/plain": [
       "[['Ram', 34, 'Kathmandu'],\n",
       " ['Shyam', 45, 'Bhaktapur'],\n",
       " ['Hari', 34, 'Lalitpur'],\n",
       " ['Sabin', 32, 'Jhapa']]"
      ]
     },
     "execution_count": 18,
     "metadata": {},
     "output_type": "execute_result"
    }
   ],
   "source": [
    "a.append(['Sabin',32,'Jhapa'])\n",
    "a"
   ]
  },
  {
   "cell_type": "code",
   "execution_count": 19,
   "id": "0f712ae0-4611-47cc-9b73-f1de9854fb99",
   "metadata": {},
   "outputs": [
    {
     "name": "stdout",
     "output_type": "stream",
     "text": [
      "['Ram', 34, 'Kathmandu']\n",
      "['Shyam', 45, 'Bhaktapur']\n",
      "['Hari', 34, 'Lalitpur']\n",
      "['Sabin', 32, 'Jhapa']\n"
     ]
    }
   ],
   "source": [
    "for i in a:\n",
    "    print(i)"
   ]
  },
  {
   "cell_type": "code",
   "execution_count": 22,
   "id": "72599518-7123-4062-a8a7-9bcae244986e",
   "metadata": {},
   "outputs": [
    {
     "name": "stdout",
     "output_type": "stream",
     "text": [
      "[['Ram Prasad', 34, 'Kathmandu'], ['Shyam', 45, 'Bhaktapur'], ['Hari', 34, 'Lalitpur']]\n"
     ]
    }
   ],
   "source": [
    "#update\n",
    "a = [['Ram', 34, 'Kathmandu'], \n",
    "     ['Shyam', 45, 'Bhaktapur'], \n",
    "     ['Hari', 34, 'Lalitpur']]\n",
    "a[0][0] = \"Ram Prasad\"\n",
    "print(a)"
   ]
  },
  {
   "cell_type": "code",
   "execution_count": 23,
   "id": "a6ad2ee2-24d0-4086-a00d-e1428e019618",
   "metadata": {},
   "outputs": [
    {
     "data": {
      "text/plain": [
       "[['Shyam', 45, 'Bhaktapur'], ['Hari', 34, 'Lalitpur']]"
      ]
     },
     "execution_count": 23,
     "metadata": {},
     "output_type": "execute_result"
    }
   ],
   "source": [
    "# del remove() pop()\n",
    "a = [['Ram Prasad', 34, 'Kathmandu'], ['Shyam', 45, 'Bhaktapur'], ['Hari', 34, 'Lalitpur']]\n",
    "del a[0]\n",
    "a"
   ]
  },
  {
   "cell_type": "code",
   "execution_count": 26,
   "id": "19016744-d763-48d8-80cb-60173e70a440",
   "metadata": {},
   "outputs": [
    {
     "data": {
      "text/plain": [
       "[[34, 'Kathmandu'], ['Shyam', 45, 'Bhaktapur'], ['Hari', 34, 'Lalitpur']]"
      ]
     },
     "execution_count": 26,
     "metadata": {},
     "output_type": "execute_result"
    }
   ],
   "source": [
    "a = [['Ram Prasad', 34, 'Kathmandu'], ['Shyam', 45, 'Bhaktapur'], ['Hari', 34, 'Lalitpur']]\n",
    "del a[0][0]\n",
    "a"
   ]
  },
  {
   "cell_type": "code",
   "execution_count": 28,
   "id": "f75e38de-0e3a-427f-b695-9e21029c6697",
   "metadata": {},
   "outputs": [
    {
     "data": {
      "text/plain": [
       "[['Shyam', 45, 'Bhaktapur'], ['Hari', 34, 'Lalitpur']]"
      ]
     },
     "execution_count": 28,
     "metadata": {},
     "output_type": "execute_result"
    }
   ],
   "source": [
    "a = [['Ram Prasad', 34, 'Kathmandu'], ['Shyam', 45, 'Bhaktapur'], ['Hari', 34, 'Lalitpur']]\n",
    "a.remove(a[0])\n",
    "a"
   ]
  },
  {
   "cell_type": "code",
   "execution_count": 31,
   "id": "5397da29-9aad-49cb-b8c2-6a59519f6402",
   "metadata": {},
   "outputs": [
    {
     "name": "stdin",
     "output_type": "stream",
     "text": [
      "Enter name =  Ram\n"
     ]
    },
    {
     "name": "stdout",
     "output_type": "stream",
     "text": [
      "Yes\n",
      "1\n"
     ]
    }
   ],
   "source": [
    "#search in list\n",
    "a = [\"Ram\",\"Shyam\",\"Hari\",\"Sita\",\"Ramesh\",\"Sita\"]\n",
    "search = input(\"Enter name = \")\n",
    "if search in a:\n",
    "    print(\"Yes\")\n",
    "    print(a.count(search))\n",
    "else:\n",
    "    print(\"No\")"
   ]
  },
  {
   "cell_type": "code",
   "execution_count": 41,
   "id": "031b177a-ba48-4205-afcb-e40ad8ca7b14",
   "metadata": {},
   "outputs": [
    {
     "name": "stdin",
     "output_type": "stream",
     "text": [
      "Enter name =  Lalitpur\n"
     ]
    },
    {
     "name": "stdout",
     "output_type": "stream",
     "text": [
      "['Hari', 34, 'Lalitpur']\n",
      "1\n"
     ]
    }
   ],
   "source": [
    "#search in list\n",
    "c = 0\n",
    "a = [['Ram', 34, 'Kathmandu'], ['Shyam', 45, 'Bhaktapur'],['Ram',20,'Chitwan'], ['Hari', 34, 'Lalitpur'],['Ram',20,'Chitwan']]\n",
    "search = input(\"Enter name = \")\n",
    "for i in a:\n",
    "    if search in i:\n",
    "        print(i)\n",
    "        c = c+1\n",
    "\n",
    "print(c)"
   ]
  },
  {
   "cell_type": "code",
   "execution_count": 48,
   "id": "c198cf0d-72d4-454d-be59-840a77f89a84",
   "metadata": {},
   "outputs": [
    {
     "name": "stdin",
     "output_type": "stream",
     "text": [
      "Enter name =  Ram\n"
     ]
    },
    {
     "name": "stdout",
     "output_type": "stream",
     "text": [
      "0\n",
      "2\n",
      "4\n"
     ]
    }
   ],
   "source": [
    "a = [['Ram', 34, 'Kathmandu'], ['Shyam', 45, 'Bhaktapur'],['Ram',20,'Chitwan'], ['Hari', 34, 'Lalitpur'],['Ram',20,'Chitwan']]\n",
    "l = len(a)\n",
    "search = input(\"Enter name = \")\n",
    "for i in range(l):\n",
    "    if search in a[i]:\n",
    "        print(i)"
   ]
  },
  {
   "cell_type": "code",
   "execution_count": null,
   "id": "17ffe752-2569-4401-9916-3cc54d9a4871",
   "metadata": {},
   "outputs": [],
   "source": []
  },
  {
   "cell_type": "code",
   "execution_count": 64,
   "id": "0533c6b7-d9c6-4835-a9c3-0a3f6ebcc6c7",
   "metadata": {},
   "outputs": [
    {
     "name": "stdin",
     "output_type": "stream",
     "text": [
      "Enter name for search =  Kathmandu\n"
     ]
    },
    {
     "name": "stdout",
     "output_type": "stream",
     "text": [
      "[['Shyam', 45, 'Bhaktapur'], ['Ram', 20, 'Chitwan'], ['Hari', 34, 'Lalitpur'], ['Ram', 20, 'Chitwan'], ['Ram', 20, 'Chitwan']]\n"
     ]
    }
   ],
   "source": [
    "b = []\n",
    "a = [['Ram', 34, 'Kathmandu'],\n",
    "     ['Shyam', 45, 'Bhaktapur'],\n",
    "     ['Ram',20,'Chitwan'],\n",
    "     ['Hari', 34, 'Lalitpur'],\n",
    "     ['Ram',20,'Chitwan'],\n",
    "     ['Ram',20,'Chitwan']]\n",
    "\n",
    "search = input(\"Enter name for search = \")\n",
    "for i in a:\n",
    "    if search != i[0]:\n",
    "        b.append(i)\n",
    "\n",
    "print(b)"
   ]
  },
  {
   "cell_type": "code",
   "execution_count": null,
   "id": "f0aada11-7789-43e1-ad73-9b06b55d8ef2",
   "metadata": {},
   "outputs": [],
   "source": [
    "b = []\n",
    "a = [['Ram', 34, 'Kathmandu'],\n",
    "     ['Shyam', 45, 'Bhaktapur'],\n",
    "     ['Ram',20,'Chitwan'],\n",
    "     ['Hari', 34, 'Lalitpur'],\n",
    "     ['Ram',20,'Chitwan'],\n",
    "     ['Ram',20,'Chitwan']]\n",
    "\n",
    "search = input(\"Enter name for search = \")\n",
    "for i in a:\n",
    "    if search != i[0] and search != i[2]:\n",
    "        b.append(i)\n",
    "\n",
    "print(b)"
   ]
  },
  {
   "cell_type": "code",
   "execution_count": null,
   "id": "3a8fbf22-5f69-488c-8714-12318cf74aa7",
   "metadata": {},
   "outputs": [],
   "source": []
  }
 ],
 "metadata": {
  "kernelspec": {
   "display_name": "Python 3 (ipykernel)",
   "language": "python",
   "name": "python3"
  },
  "language_info": {
   "codemirror_mode": {
    "name": "ipython",
    "version": 3
   },
   "file_extension": ".py",
   "mimetype": "text/x-python",
   "name": "python",
   "nbconvert_exporter": "python",
   "pygments_lexer": "ipython3",
   "version": "3.13.3"
  }
 },
 "nbformat": 4,
 "nbformat_minor": 5
}
