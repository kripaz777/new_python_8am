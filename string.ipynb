{
 "cells": [
  {
   "cell_type": "code",
   "execution_count": 1,
   "id": "38fd47dd-599b-42e1-a4f4-240634c6a962",
   "metadata": {},
   "outputs": [
    {
     "name": "stdout",
     "output_type": "stream",
     "text": [
      "<class 'str'>\n",
      "<class 'str'>\n",
      "<class 'str'>\n"
     ]
    }
   ],
   "source": [
    "# string\n",
    "a = 'Hello World'\n",
    "b = \"Hello World\"\n",
    "c = '''Hello World'''\n",
    "print(type(a))\n",
    "print(type(b))\n",
    "print(type(c))"
   ]
  },
  {
   "cell_type": "code",
   "execution_count": 2,
   "id": "e03b6d3c-a22c-4fab-a60c-e7663b6fc1bc",
   "metadata": {},
   "outputs": [
    {
     "name": "stdout",
     "output_type": "stream",
     "text": [
      "<class 'str'>\n"
     ]
    }
   ],
   "source": [
    "a = '10'\n",
    "print(type(a))"
   ]
  },
  {
   "cell_type": "code",
   "execution_count": 3,
   "id": "2430b95b-a5c0-47e6-8951-5e9df7f414a7",
   "metadata": {},
   "outputs": [
    {
     "name": "stdin",
     "output_type": "stream",
     "text": [
      "Enter a =  10\n"
     ]
    },
    {
     "name": "stdout",
     "output_type": "stream",
     "text": [
      "<class 'str'>\n"
     ]
    }
   ],
   "source": [
    "a = input(\"Enter a = \")\n",
    "print(type(a))"
   ]
  },
  {
   "cell_type": "code",
   "execution_count": 4,
   "id": "a4ca706a-b572-41dc-9308-b605d58210e5",
   "metadata": {},
   "outputs": [
    {
     "name": "stdout",
     "output_type": "stream",
     "text": [
      "Hello World\n"
     ]
    }
   ],
   "source": [
    "# + *\n",
    "a = \"Hello \"\n",
    "b = \"World\"\n",
    "c = a+b\n",
    "print(c)"
   ]
  },
  {
   "cell_type": "code",
   "execution_count": 5,
   "id": "41e6cd0e-f2fb-45ce-b200-fc5da93bcbb0",
   "metadata": {},
   "outputs": [
    {
     "name": "stdout",
     "output_type": "stream",
     "text": [
      "Hello WorldHello World\n"
     ]
    }
   ],
   "source": [
    "a = \"Hello World\"\n",
    "print(a*2)"
   ]
  },
  {
   "cell_type": "code",
   "execution_count": 20,
   "id": "599c0949-e835-4c9c-99f1-b9252a7a9ee2",
   "metadata": {},
   "outputs": [
    {
     "name": "stdout",
     "output_type": "stream",
     "text": [
      "H\n",
      "Hello\n",
      "HloWr\n"
     ]
    }
   ],
   "source": [
    "a = \"Hello World\"\n",
    "print(a[0])\n",
    "print(a[0:5])\n",
    "print(a[0:10:2])"
   ]
  },
  {
   "cell_type": "code",
   "execution_count": 21,
   "id": "cc886f7c-569d-43e8-893d-7c0704531df9",
   "metadata": {},
   "outputs": [
    {
     "name": "stdout",
     "output_type": "stream",
     "text": [
      "H\n",
      "e\n",
      "l\n",
      "l\n",
      "o\n",
      " \n",
      "W\n",
      "o\n",
      "r\n",
      "l\n",
      "d\n"
     ]
    }
   ],
   "source": [
    "a = \"Hello World\"\n",
    "l = len(a)\n",
    "for i in range(l):\n",
    "    print(a[i])"
   ]
  },
  {
   "cell_type": "code",
   "execution_count": 22,
   "id": "0a4f8d24-85f7-418c-bda8-e3977ddffd15",
   "metadata": {},
   "outputs": [
    {
     "name": "stdout",
     "output_type": "stream",
     "text": [
      "H\n",
      "e\n",
      "l\n",
      "l\n",
      "o\n",
      " \n",
      "W\n",
      "o\n",
      "r\n",
      "l\n",
      "d\n"
     ]
    }
   ],
   "source": [
    "a = \"Hello World\"\n",
    "l = len(a)\n",
    "i = 0\n",
    "while i<l:\n",
    "    print(a[i])\n",
    "    i = i + 1"
   ]
  },
  {
   "cell_type": "code",
   "execution_count": 3,
   "id": "f130130e-1453-4f5f-a98f-b1b7f946ba51",
   "metadata": {},
   "outputs": [
    {
     "name": "stdin",
     "output_type": "stream",
     "text": [
      "Enter name =  Ram\n",
      "Enter age =  34\n",
      "Enter add =  Kathmandu\n"
     ]
    },
    {
     "name": "stdout",
     "output_type": "stream",
     "text": [
      "Hello World I am Ram I am from Kathmandu I am 34\n"
     ]
    }
   ],
   "source": [
    "# string\n",
    "name = input(\"Enter name = \")\n",
    "age = int(input(\"Enter age = \"))\n",
    "add = input(\"Enter add = \")\n",
    "\n",
    "info = \"Hello World I am \" + name + \" I am from \" + add + \" I am \" + str(age)\n",
    "print(info)"
   ]
  },
  {
   "cell_type": "code",
   "execution_count": 5,
   "id": "8ffd80cc-67eb-42cb-af86-83b26831df48",
   "metadata": {},
   "outputs": [
    {
     "name": "stdin",
     "output_type": "stream",
     "text": [
      "Enter name =  Ram\n",
      "Enter age =  34\n",
      "Enter add =  Kathmandu\n"
     ]
    },
    {
     "name": "stdout",
     "output_type": "stream",
     "text": [
      "Hello World I am Ram. I am from Kathmandu. I am 34\n"
     ]
    }
   ],
   "source": [
    "# String formatting\n",
    "name = input(\"Enter name = \")\n",
    "age = int(input(\"Enter age = \"))\n",
    "add = input(\"Enter add = \")\n",
    "\n",
    "info = f\"Hello World I am {name}. I am from {add}. I am {age}\"\n",
    "print(info)"
   ]
  },
  {
   "cell_type": "code",
   "execution_count": 6,
   "id": "0bd22260-b849-490b-910d-25c8f0d10fa5",
   "metadata": {},
   "outputs": [
    {
     "name": "stdout",
     "output_type": "stream",
     "text": [
      "Hello World I am {name}. I am from {add}. I am {age}\n"
     ]
    }
   ],
   "source": [
    "info = \"Hello World I am {name}. I am from {add}. I am {age}\"\n",
    "print(info)"
   ]
  },
  {
   "cell_type": "code",
   "execution_count": 7,
   "id": "f06994eb-73d6-4462-8f54-fb60411e5ca3",
   "metadata": {},
   "outputs": [
    {
     "name": "stdin",
     "output_type": "stream",
     "text": [
      "Enter n =  2\n",
      "Enter name =  Ram\n",
      "Enter phone =  8797778765\n",
      "Enter name =  Shyam\n",
      "Enter phone =  9808778765\n"
     ]
    },
    {
     "name": "stdout",
     "output_type": "stream",
     "text": [
      "Ram 8797778765 \n",
      "Shyam 9808778765 \n",
      "\n"
     ]
    }
   ],
   "source": [
    "# WAP to store name and phone no of given persons\n",
    "s = \"\"\n",
    "n = int(input(\"Enter n = \"))\n",
    "for i in range(n):\n",
    "    name = input(\"Enter name = \")\n",
    "    phone = int(input(\"Enter phone = \"))\n",
    "    s = s + f\"{name} {phone} \\n\"\n",
    "\n",
    "print(s)"
   ]
  },
  {
   "cell_type": "code",
   "execution_count": 26,
   "id": "7bb60e8d-4c62-4036-a6aa-042f7b03712e",
   "metadata": {},
   "outputs": [
    {
     "name": "stdin",
     "output_type": "stream",
     "text": [
      "Enter value for search rAm\n"
     ]
    },
    {
     "name": "stdout",
     "output_type": "stream",
     "text": [
      "Yes\n",
      "2\n"
     ]
    }
   ],
   "source": [
    "# search in string\n",
    "#count()\n",
    "a = \"Ram Shyam Hari Sita Gita Nabin Ram\".lower()\n",
    "search = input(\"Enter value for search\").lower()\n",
    "if search in a:\n",
    "    print(\"Yes\")\n",
    "    print(a.count(search))\n",
    "else:\n",
    "    print(\"No\")"
   ]
  },
  {
   "cell_type": "code",
   "execution_count": 22,
   "id": "52472e91-62fd-4f59-bba0-563891001747",
   "metadata": {},
   "outputs": [
    {
     "name": "stdout",
     "output_type": "stream",
     "text": [
      "RAM SHYAM HARI SITA GITA NABIN RAM\n",
      "ram shyam hari sita gita nabin ram\n"
     ]
    }
   ],
   "source": [
    "# upper()\n",
    "# lower()\n",
    "a = \"Ram Shyam Hari Sita Gita Nabin Ram\"\n",
    "print(a.upper())\n",
    "print(a.lower())"
   ]
  },
  {
   "cell_type": "code",
   "execution_count": 25,
   "id": "21115cfa-5a43-43b0-ab9e-220add2a0b8c",
   "metadata": {},
   "outputs": [
    {
     "name": "stdout",
     "output_type": "stream",
     "text": [
      "RAM SHYAM HARI SITA GITA NABIN RAM\n",
      "RAM\n"
     ]
    }
   ],
   "source": [
    "a = \"Ram Shyam Hari Sita Gita Nabin Ram\".lower()\n",
    "b = \"rAm\".lower()\n",
    "print(a)\n",
    "print(b)"
   ]
  },
  {
   "cell_type": "code",
   "execution_count": 28,
   "id": "6eb2cc23-0eb8-4806-894a-6a9caa3f5247",
   "metadata": {},
   "outputs": [
    {
     "name": "stdout",
     "output_type": "stream",
     "text": [
      "Rama Shyam Hari Sita Gita Nabin Rama\n"
     ]
    }
   ],
   "source": [
    "# Replace\n",
    "a = \"Ram Shyam Hari Sita Gita Nabin Ram\"\n",
    "a = a.replace(\"Ram\",\"Rama\")\n",
    "print(a)"
   ]
  },
  {
   "cell_type": "code",
   "execution_count": 29,
   "id": "f2f0d262-f821-494a-b202-f580ca6751e0",
   "metadata": {},
   "outputs": [
    {
     "name": "stdout",
     "output_type": "stream",
     "text": [
      "Rama Shyam Hari Sita Gita Nabin Rama Ramaesh\n"
     ]
    }
   ],
   "source": [
    "a = \"Ram Shyam Hari Sita Gita Nabin Ram Ramesh\"\n",
    "a = a.replace(\"Ram\",\"Rama\")\n",
    "print(a)"
   ]
  },
  {
   "cell_type": "code",
   "execution_count": null,
   "id": "01cc88a4-246f-4109-bb43-eab3edb9e652",
   "metadata": {},
   "outputs": [],
   "source": []
  }
 ],
 "metadata": {
  "kernelspec": {
   "display_name": "Python 3 (ipykernel)",
   "language": "python",
   "name": "python3"
  },
  "language_info": {
   "codemirror_mode": {
    "name": "ipython",
    "version": 3
   },
   "file_extension": ".py",
   "mimetype": "text/x-python",
   "name": "python",
   "nbconvert_exporter": "python",
   "pygments_lexer": "ipython3",
   "version": "3.13.3"
  }
 },
 "nbformat": 4,
 "nbformat_minor": 5
}
