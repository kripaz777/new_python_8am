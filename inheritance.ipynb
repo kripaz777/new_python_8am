{
 "cells": [
  {
   "cell_type": "code",
   "execution_count": null,
   "id": "df3aebd3-961f-4d9e-83b7-fda0f0c49453",
   "metadata": {},
   "outputs": [],
   "source": [
    "# class A:\n",
    "#     <methods>\n",
    "#     <methos>\n",
    "\n",
    "# class B(A):\n",
    "#     <methods>\n",
    "#     <methods>\n",
    "\n",
    "# obj = B()"
   ]
  },
  {
   "cell_type": "code",
   "execution_count": 1,
   "id": "d67fc02a-99ae-414d-b6cf-ec29e1055cb2",
   "metadata": {},
   "outputs": [
    {
     "name": "stdout",
     "output_type": "stream",
     "text": [
      "Hello World I am Ram. I am from Kathmandu. I am 34\n"
     ]
    }
   ],
   "source": [
    "class Data:                                          #parent class\n",
    "    def __init__(self):\n",
    "        self.name = \"Ram\"\n",
    "        self.age = 34\n",
    "        self.add = \"Kathmandu\"\n",
    "\n",
    "    def data(self):\n",
    "        print(self.name,self.age,self.add)\n",
    "        \n",
    "class Info(Data):                                     #child class\n",
    "    def info(self):\n",
    "        print(f\"Hello World I am {self.name}. I am from {self.add}. I am {self.age}.\")\n",
    "\n",
    "obj = Info()\n",
    "obj.info()\n"
   ]
  },
  {
   "cell_type": "code",
   "execution_count": 3,
   "id": "5656bdeb-ce93-4ad9-bae2-89bce8aaf210",
   "metadata": {},
   "outputs": [
    {
     "name": "stdin",
     "output_type": "stream",
     "text": [
      "Enter name =  Ram\n",
      "Enter age =  34\n",
      "Enter add =  Kathmandu\n"
     ]
    },
    {
     "name": "stdout",
     "output_type": "stream",
     "text": [
      "Hello World I am Ram. I am from Kathmandu. I am 34.\n"
     ]
    }
   ],
   "source": [
    "class Data:                                          #parent class\n",
    "    def __init__(self,name,age,add):\n",
    "        self.name = name\n",
    "        self.age = age\n",
    "        self.add = add\n",
    "\n",
    "    def data(self):\n",
    "        print(self.name,self.age,self.add)\n",
    "        \n",
    "class Info(Data):                                     #child class\n",
    "    def info(self):\n",
    "        print(f\"Hello World I am {self.name}. I am from {self.add}. I am {self.age}.\")\n",
    "        \n",
    "name = input(\"Enter name = \")\n",
    "age = int(input(\"Enter age = \"))\n",
    "add = input(\"Enter add = \")\n",
    "obj = Info(name,age,add)\n",
    "obj.info()\n",
    "obj.data()"
   ]
  },
  {
   "cell_type": "code",
   "execution_count": 4,
   "id": "4f80ad57-d629-4067-ba1f-17a8f3364ebc",
   "metadata": {},
   "outputs": [
    {
     "name": "stdin",
     "output_type": "stream",
     "text": [
      "Enter name =  Ram\n",
      "Enter age =  34\n",
      "Enter add =  Kathmandu\n"
     ]
    },
    {
     "name": "stdout",
     "output_type": "stream",
     "text": [
      "Hello World I am Ram. I am from Kathmandu. I am 34.\n",
      "Ram 34 Kathmandu\n"
     ]
    }
   ],
   "source": [
    "class Data:                                          #parent class\n",
    "    def __init__(self,add):\n",
    "        self.add = add\n",
    "\n",
    "    def data(self):\n",
    "        print(self.name,self.age,self.add)\n",
    "        \n",
    "class Info(Data):                                     #child class\n",
    "    def __init__(self,name,age,add):\n",
    "        self.name = name\n",
    "        self.age = age\n",
    "        Data.__init__(self,add)\n",
    "    def info(self):\n",
    "        print(f\"Hello World I am {self.name}. I am from {self.add}. I am {self.age}.\")\n",
    "        \n",
    "name = input(\"Enter name = \")\n",
    "age = int(input(\"Enter age = \"))\n",
    "add = input(\"Enter add = \")\n",
    "obj = Info(name,age,add)\n",
    "obj.info()\n",
    "obj.data()"
   ]
  },
  {
   "cell_type": "code",
   "execution_count": 6,
   "id": "f50473e4-5d61-43b5-b2f6-fe3eb0a78b24",
   "metadata": {},
   "outputs": [
    {
     "name": "stdout",
     "output_type": "stream",
     "text": [
      "This is class A\n",
      "This is class B\n",
      "This is class C\n"
     ]
    }
   ],
   "source": [
    "#multilevel\n",
    "class A:\n",
    "    print(\"This is class A\")\n",
    "class B(A):\n",
    "    print(\"This is class B\")\n",
    "class C(B):\n",
    "    print(\"This is class C\")\n",
    "\n",
    "obj = C()"
   ]
  },
  {
   "cell_type": "code",
   "execution_count": 8,
   "id": "1fa286ad-0836-4331-ad86-a464d6450856",
   "metadata": {},
   "outputs": [
    {
     "name": "stdin",
     "output_type": "stream",
     "text": [
      "Enter name =  Ram\n",
      "Enter age =  34\n",
      "Enter add =  Kathmandu\n"
     ]
    },
    {
     "name": "stdout",
     "output_type": "stream",
     "text": [
      "Hello World I am Ram. I am from Kathmandu. I am 34.\n",
      "Ram 34 Kathmandu\n"
     ]
    }
   ],
   "source": [
    "class Address:\n",
    "    def __init__(self,add):\n",
    "        self.add = add\n",
    "    def address(self):\n",
    "        print(self.add)\n",
    "        \n",
    "class Data(Address):                                          #parent class\n",
    "    def __init__(self,age,add):\n",
    "        self.age = age\n",
    "        Address.__init__(self,add)\n",
    "\n",
    "    def data(self):\n",
    "        print(self.name,self.age,self.add)\n",
    "        \n",
    "class Info(Data):                                     #child class\n",
    "    def __init__(self,name,age,add):\n",
    "        self.name = name\n",
    "        Data.__init__(self,age,add)\n",
    "    def info(self):\n",
    "        print(f\"Hello World I am {self.name}. I am from {self.add}. I am {self.age}.\")\n",
    "        \n",
    "name = input(\"Enter name = \")\n",
    "age = int(input(\"Enter age = \"))\n",
    "add = input(\"Enter add = \")\n",
    "obj = Info(name,age,add)\n",
    "obj.info()\n",
    "obj.data()"
   ]
  },
  {
   "cell_type": "code",
   "execution_count": 10,
   "id": "d50c23a1-fd9d-414d-8139-51815a03a941",
   "metadata": {},
   "outputs": [
    {
     "name": "stdin",
     "output_type": "stream",
     "text": [
      "Enter name =  Ram\n",
      "Enter age =  34\n",
      "Enter add =  Kathmandu\n"
     ]
    },
    {
     "name": "stdout",
     "output_type": "stream",
     "text": [
      "Hello World I am Ram. I am from Kathmandu. I am 34.\n"
     ]
    }
   ],
   "source": [
    "class Address:                                          #parent class\n",
    "    def __init__(self,add):\n",
    "        self.add = add\n",
    "\n",
    "    def address(self):\n",
    "        print(self.name,self.age,self.add)\n",
    "\n",
    "class Age:\n",
    "    def __init__(self,age):\n",
    "        self.age = age\n",
    "\n",
    "    def age(self):\n",
    "        print(self.age)\n",
    "        \n",
    "class Info(Address,Age):                                     #child class\n",
    "    def __init__(self,name,age,add):\n",
    "        self.name = name\n",
    "        Age.__init__(self,age)\n",
    "        Address.__init__(self,add)\n",
    "    def info(self):\n",
    "        print(f\"Hello World I am {self.name}. I am from {self.add}. I am {self.age}.\")\n",
    "        \n",
    "name = input(\"Enter name = \")\n",
    "age = int(input(\"Enter age = \"))\n",
    "add = input(\"Enter add = \")\n",
    "obj = Info(name,age,add)\n",
    "obj.info()"
   ]
  },
  {
   "cell_type": "code",
   "execution_count": 13,
   "id": "c6bf875d-62c0-4cb3-9107-207b47d56304",
   "metadata": {},
   "outputs": [
    {
     "name": "stdout",
     "output_type": "stream",
     "text": [
      "Hello World I am Ram. I am from Kathmandu. I am 34.\n",
      "('Ram', 34, 'Kathmandu')\n"
     ]
    }
   ],
   "source": [
    "class Data:                                          #parent class\n",
    "    def __init__(self):\n",
    "        self.name = \"Ram\"\n",
    "        self.age = 34\n",
    "        self.add = \"Kathmandu\"\n",
    "\n",
    "    def data(self):\n",
    "        return self.name,self.age,self.add\n",
    "        \n",
    "class Info(Data):                                     #child class\n",
    "    def info(self):\n",
    "        print(f\"Hello World I am {self.name}. I am from {self.add}. I am {self.age}.\")\n",
    "        print(Data.data(self))\n",
    "\n",
    "obj = Info()\n",
    "obj.info()"
   ]
  },
  {
   "cell_type": "code",
   "execution_count": 2,
   "id": "7bb188ed-7f61-430a-9c1e-4ffec1673412",
   "metadata": {},
   "outputs": [],
   "source": [
    "# public members\n",
    "class Info:\n",
    "    def __init__(self):\n",
    "        self.name = \"Ram\"\n",
    "        self.age = 34\n",
    "        self.add = \"Kathmandu\"\n",
    "\n",
    "obj = Info()\n",
    "print(obj.name)\n",
    "print(obj.age)\n",
    "print(obj.add)"
   ]
  },
  {
   "cell_type": "code",
   "execution_count": null,
   "id": "60ecfc52-b006-4e84-882c-42ff09ea2352",
   "metadata": {},
   "outputs": [],
   "source": [
    "# protected members\n",
    "class Info:\n",
    "    def __init__(self):\n",
    "        self._name = \"Ram\"\n",
    "        self._age = 34\n",
    "        self._add = \"Kathmandu\"\n",
    "\n",
    "obj = Info()\n",
    "print(obj._name)\n",
    "print(obj._age)\n",
    "print(obj._add)"
   ]
  },
  {
   "cell_type": "code",
   "execution_count": null,
   "id": "6ac0bce4-fa23-4837-893b-237d1489d446",
   "metadata": {},
   "outputs": [],
   "source": [
    "# private members\n",
    "class Info:\n",
    "    def __init__(self):\n",
    "        self.__name = \"Ram\"\n",
    "        self.__age = 34\n",
    "        self.__add = \"Kathmandu\"\n",
    "\n",
    "obj = Info()\n",
    "# print(obj.__name)\n",
    "# print(obj.__age)\n",
    "# print(obj.__add)"
   ]
  },
  {
   "cell_type": "code",
   "execution_count": 3,
   "id": "1158507c-48b0-46e9-91ce-133bdbf14bc8",
   "metadata": {},
   "outputs": [
    {
     "name": "stdout",
     "output_type": "stream",
     "text": [
      "Hello World I am Ram.I am 34.\n",
      "Ram\n",
      "34\n"
     ]
    }
   ],
   "source": [
    "class Data:                                          #parent class\n",
    "    def __init__(self):\n",
    "        self.name = \"Ram\"                            #public member\n",
    "        self._age = 34                               #protected members\n",
    "        self.__add = \"Kathmandu\"                     #private members\n",
    "\n",
    "    def data(self):\n",
    "        print(self.name,self._age,self.__add)\n",
    "        \n",
    "class Info(Data):                                     #child class\n",
    "    def info(self):\n",
    "        print(f\"Hello World I am {self.name}.I am {self._age}.\")\n",
    "\n",
    "obj = Info()\n",
    "obj.info()\n",
    "print(obj.name)\n",
    "print(obj._age)"
   ]
  },
  {
   "cell_type": "code",
   "execution_count": null,
   "id": "c820f8c7-1782-4c3b-a6f6-1945a55c2c63",
   "metadata": {},
   "outputs": [],
   "source": []
  },
  {
   "cell_type": "code",
   "execution_count": null,
   "id": "e4cbd482-8029-4355-bc73-054dbc4cacc1",
   "metadata": {},
   "outputs": [],
   "source": []
  }
 ],
 "metadata": {
  "kernelspec": {
   "display_name": "Python 3 (ipykernel)",
   "language": "python",
   "name": "python3"
  },
  "language_info": {
   "codemirror_mode": {
    "name": "ipython",
    "version": 3
   },
   "file_extension": ".py",
   "mimetype": "text/x-python",
   "name": "python",
   "nbconvert_exporter": "python",
   "pygments_lexer": "ipython3",
   "version": "3.13.3"
  }
 },
 "nbformat": 4,
 "nbformat_minor": 5
}
