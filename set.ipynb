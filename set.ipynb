{
 "cells": [
  {
   "cell_type": "code",
   "execution_count": 1,
   "id": "348e9879-c593-410b-b8c7-fdc4a61d8035",
   "metadata": {},
   "outputs": [],
   "source": [
    "# set\n",
    "# -No indexing\n",
    "# -Multiple but no duplicate\n",
    "# -unOrdered\n",
    "# -Mutable"
   ]
  },
  {
   "cell_type": "code",
   "execution_count": 2,
   "id": "45474cd8-4511-4405-95f1-00777da4f897",
   "metadata": {},
   "outputs": [
    {
     "name": "stdout",
     "output_type": "stream",
     "text": [
      "<class 'set'>\n"
     ]
    }
   ],
   "source": [
    "s = set()\n",
    "print(type(s))"
   ]
  },
  {
   "cell_type": "code",
   "execution_count": 3,
   "id": "dd83a509-31dd-4bb7-81b2-cdf895ca94d1",
   "metadata": {},
   "outputs": [
    {
     "name": "stdout",
     "output_type": "stream",
     "text": [
      "{1, 2, 3, 4, 5, 6, 7, 8, 9}\n"
     ]
    }
   ],
   "source": [
    "s = {1,2,3,4,5,6,7,8,9}\n",
    "print(s)"
   ]
  },
  {
   "cell_type": "code",
   "execution_count": 4,
   "id": "48ae02de-8957-42b7-99e0-16ad5e920b17",
   "metadata": {},
   "outputs": [
    {
     "name": "stdout",
     "output_type": "stream",
     "text": [
      "{'Dog', 'Ball', 'Fish', 'Apple', 'Cat'}\n"
     ]
    }
   ],
   "source": [
    "s = {\"Apple\",\"Ball\",\"Cat\",\"Dog\",\"Fish\"}\n",
    "print(s)"
   ]
  },
  {
   "cell_type": "code",
   "execution_count": 5,
   "id": "283db3bf-c0f4-4a55-be86-eab143a04212",
   "metadata": {},
   "outputs": [
    {
     "name": "stdout",
     "output_type": "stream",
     "text": [
      "{'Dog', 'Ball', 'Fish', 'Apple', 'Cat'}\n"
     ]
    }
   ],
   "source": [
    "s = {\"Apple\",\"Ball\",\"Cat\",\"Dog\",\"Fish\",\"Apple\",\"Dog\"}\n",
    "print(s)"
   ]
  },
  {
   "cell_type": "code",
   "execution_count": 7,
   "id": "2d3baabb-399e-4f90-af5d-d376d0e11aad",
   "metadata": {},
   "outputs": [
    {
     "ename": "TypeError",
     "evalue": "'set' object is not subscriptable",
     "output_type": "error",
     "traceback": [
      "\u001b[1;31m---------------------------------------------------------------------------\u001b[0m",
      "\u001b[1;31mTypeError\u001b[0m                                 Traceback (most recent call last)",
      "Cell \u001b[1;32mIn[7], line 2\u001b[0m\n\u001b[0;32m      1\u001b[0m s \u001b[38;5;241m=\u001b[39m {\u001b[38;5;124m\"\u001b[39m\u001b[38;5;124mApple\u001b[39m\u001b[38;5;124m\"\u001b[39m,\u001b[38;5;124m\"\u001b[39m\u001b[38;5;124mBall\u001b[39m\u001b[38;5;124m\"\u001b[39m,\u001b[38;5;124m\"\u001b[39m\u001b[38;5;124mCat\u001b[39m\u001b[38;5;124m\"\u001b[39m,\u001b[38;5;124m\"\u001b[39m\u001b[38;5;124mDog\u001b[39m\u001b[38;5;124m\"\u001b[39m,\u001b[38;5;124m\"\u001b[39m\u001b[38;5;124mFish\u001b[39m\u001b[38;5;124m\"\u001b[39m,\u001b[38;5;124m\"\u001b[39m\u001b[38;5;124mApple\u001b[39m\u001b[38;5;124m\"\u001b[39m,\u001b[38;5;124m\"\u001b[39m\u001b[38;5;124mDog\u001b[39m\u001b[38;5;124m\"\u001b[39m}\n\u001b[1;32m----> 2\u001b[0m \u001b[43ms\u001b[49m\u001b[43m[\u001b[49m\u001b[38;5;241;43m0\u001b[39;49m\u001b[43m]\u001b[49m\n",
      "\u001b[1;31mTypeError\u001b[0m: 'set' object is not subscriptable"
     ]
    }
   ],
   "source": [
    "s = {\"Apple\",\"Ball\",\"Cat\",\"Dog\",\"Fish\",\"Apple\",\"Dog\"}\n",
    "s[0]"
   ]
  },
  {
   "cell_type": "code",
   "execution_count": 12,
   "id": "05996c49-a55b-4808-9034-92b820490284",
   "metadata": {},
   "outputs": [
    {
     "name": "stdout",
     "output_type": "stream",
     "text": [
      "{'Apple', 'Ball', 'Cat'}\n"
     ]
    }
   ],
   "source": [
    "#insert data into set\n",
    "s = set()\n",
    "s.add(\"Apple\")\n",
    "s.add(\"Ball\")\n",
    "s.add(\"Cat\")\n",
    "print(s)"
   ]
  },
  {
   "cell_type": "code",
   "execution_count": 13,
   "id": "b148fd3c-0a80-4bc1-83a6-4805962ea7a2",
   "metadata": {},
   "outputs": [
    {
     "name": "stdout",
     "output_type": "stream",
     "text": [
      "{'Ball', 'Cat'}\n"
     ]
    }
   ],
   "source": [
    "#remove\n",
    "s = {'Apple', 'Ball', 'Cat'}\n",
    "s.remove('Apple')\n",
    "print(s)"
   ]
  },
  {
   "cell_type": "code",
   "execution_count": 14,
   "id": "8c46fa04-f277-4bc2-9e27-c4795740c2d0",
   "metadata": {},
   "outputs": [],
   "source": [
    "# There is no any mutable datatype inside set"
   ]
  },
  {
   "cell_type": "code",
   "execution_count": null,
   "id": "85653553-8e98-42fd-9cea-1a98e23f972d",
   "metadata": {},
   "outputs": [],
   "source": [
    "# No list inside set\n",
    "# No dict inside set\n",
    "# No set inside set"
   ]
  },
  {
   "cell_type": "code",
   "execution_count": 18,
   "id": "68106dce-7024-4933-8d67-df5e861bcc76",
   "metadata": {},
   "outputs": [],
   "source": [
    "# in {} thre is no any use of operator\n"
   ]
  },
  {
   "cell_type": "code",
   "execution_count": 20,
   "id": "dc5f7adc-028a-4793-954f-88c4454fab36",
   "metadata": {},
   "outputs": [],
   "source": [
    "# update\n",
    "# union\n",
    "# intersection\n",
    "# difference"
   ]
  },
  {
   "cell_type": "code",
   "execution_count": 23,
   "id": "04e07b45-36a6-43df-b2d1-709127236e10",
   "metadata": {},
   "outputs": [
    {
     "name": "stdout",
     "output_type": "stream",
     "text": [
      "{1, 2, 3, 4, 5, 6, 7, 8, 9, 10}\n"
     ]
    }
   ],
   "source": [
    "a = {1,2,3,4,5}\n",
    "b = {6,7,8,9,10}\n",
    "a.update(b)\n",
    "print(a)"
   ]
  },
  {
   "cell_type": "code",
   "execution_count": 28,
   "id": "0f5f4391-36b3-4306-932e-0807aca71243",
   "metadata": {},
   "outputs": [
    {
     "name": "stdout",
     "output_type": "stream",
     "text": [
      "common HR =  {'Ram', 'Hari'}\n",
      "Merged HR =  {'Sita', 'Nilam', 'Bill', 'Hari', 'Ashok', 'Sujan', 'Ram', 'Jack', 'Willium', 'Steave', 'Satya', 'John'}\n"
     ]
    }
   ],
   "source": [
    "U =  {'xyz','abc','Sita', 'Nilam', 'Bill', 'Hari', 'Ashok', 'Sujan', 'Ram', 'Jack', 'Willium', 'Steave', 'Satya', 'John'}\n",
    "\n",
    "ms = {\"Jack\",\"John\",\"Bill\",\"Willium\",\"Satya\",\"Ram\",\"Hari\"}\n",
    "apple = {\"Steave\",\"Ashok\",\"Nilam\",\"Sujan\",\"Sita\",\"Ram\",\"Hari\"}\n",
    "\n",
    "common = ms.intersection(apple)\n",
    "\n",
    "merge = ms.union(apple)\n",
    "\n",
    "print(\"common HR = \", common)\n",
    "print(\"Merged HR = \",merge)"
   ]
  },
  {
   "cell_type": "code",
   "execution_count": 29,
   "id": "fadf2525-8f29-4e67-ae5e-bd69825cc7ed",
   "metadata": {},
   "outputs": [
    {
     "name": "stdout",
     "output_type": "stream",
     "text": [
      "Only MS =  {'Bill', 'Jack', 'Willium', 'Satya', 'John'}\n"
     ]
    }
   ],
   "source": [
    "print(\"Only MS = \", ms-apple)"
   ]
  },
  {
   "cell_type": "code",
   "execution_count": 30,
   "id": "f30f7ff8-5caf-4206-bdbb-104b6c10c34f",
   "metadata": {},
   "outputs": [
    {
     "name": "stdout",
     "output_type": "stream",
     "text": [
      "Only apple =  {'Sita', 'Nilam', 'Ashok', 'Sujan', 'Steave'}\n"
     ]
    }
   ],
   "source": [
    "print(\"Only apple = \", apple-ms)"
   ]
  },
  {
   "cell_type": "code",
   "execution_count": 32,
   "id": "fe8ca2f4-0d15-465a-ae98-7db821d3d834",
   "metadata": {},
   "outputs": [
    {
     "name": "stdout",
     "output_type": "stream",
     "text": [
      "{'abc', 'xyz'}\n"
     ]
    }
   ],
   "source": [
    "# unemployed people\n",
    "print(U-merge)"
   ]
  },
  {
   "cell_type": "code",
   "execution_count": null,
   "id": "c5785345-5882-46b3-b0fa-ff445b1a8f8b",
   "metadata": {},
   "outputs": [],
   "source": [
    "# subset()\n",
    "# superset()\n",
    "# disjoint()"
   ]
  },
  {
   "cell_type": "code",
   "execution_count": 36,
   "id": "6a2bfe36-3d7d-44ae-9973-351c39321cfc",
   "metadata": {},
   "outputs": [
    {
     "data": {
      "text/plain": [
       "{'django', 'js'}"
      ]
     },
     "execution_count": 36,
     "metadata": {},
     "output_type": "execute_result"
    }
   ],
   "source": [
    "skills = {\"python\",\"ms word\",\"paint\",\"html\",\"css\",'django','js'}\n",
    "jd = {'django','js','react','ms'}\n",
    "skills.intersection(jd)"
   ]
  },
  {
   "cell_type": "code",
   "execution_count": 35,
   "id": "1401d210-bf5f-49c3-84a7-d03888fe171b",
   "metadata": {},
   "outputs": [
    {
     "data": {
      "text/plain": [
       "66.66666666666666"
      ]
     },
     "execution_count": 35,
     "metadata": {},
     "output_type": "execute_result"
    }
   ],
   "source": [
    "len(skills.intersection(jd))/len(jd)*100"
   ]
  },
  {
   "cell_type": "code",
   "execution_count": null,
   "id": "6403cd45-0e7b-4783-8a53-df52642e9fc8",
   "metadata": {},
   "outputs": [],
   "source": []
  }
 ],
 "metadata": {
  "kernelspec": {
   "display_name": "Python 3 (ipykernel)",
   "language": "python",
   "name": "python3"
  },
  "language_info": {
   "codemirror_mode": {
    "name": "ipython",
    "version": 3
   },
   "file_extension": ".py",
   "mimetype": "text/x-python",
   "name": "python",
   "nbconvert_exporter": "python",
   "pygments_lexer": "ipython3",
   "version": "3.13.3"
  }
 },
 "nbformat": 4,
 "nbformat_minor": 5
}
