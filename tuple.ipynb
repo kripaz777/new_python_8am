{
 "cells": [
  {
   "cell_type": "code",
   "execution_count": 1,
   "id": "80bfac23-11d5-4132-882e-f3c7412f55d3",
   "metadata": {},
   "outputs": [],
   "source": [
    "# tuple\n",
    "# -Indexing\n",
    "# -Ordered\n",
    "# -Multiple and duplicate\n",
    "# -Imutable"
   ]
  },
  {
   "cell_type": "code",
   "execution_count": 2,
   "id": "eb2b5d21-d096-4bd0-817f-e90eca9f3020",
   "metadata": {},
   "outputs": [
    {
     "name": "stdout",
     "output_type": "stream",
     "text": [
      "<class 'tuple'>\n"
     ]
    }
   ],
   "source": [
    "t = (1,2,3,4,5,6,7,8,9)\n",
    "print(type(t))"
   ]
  },
  {
   "cell_type": "code",
   "execution_count": 5,
   "id": "33c6d3c3-d829-46ac-8f2a-f8ad9d165768",
   "metadata": {},
   "outputs": [
    {
     "name": "stdout",
     "output_type": "stream",
     "text": [
      "<class 'tuple'>\n"
     ]
    }
   ],
   "source": [
    "t = (\"Apple\",)\n",
    "print(type(t))"
   ]
  },
  {
   "cell_type": "code",
   "execution_count": 7,
   "id": "210504ae-86c6-412c-89d6-2f8c21ad970d",
   "metadata": {},
   "outputs": [
    {
     "name": "stdout",
     "output_type": "stream",
     "text": [
      "Ball\n"
     ]
    }
   ],
   "source": [
    "t = (\"Apple\",\"Ball\",\"Cat\",\"Dog\")\n",
    "print(t[1])"
   ]
  },
  {
   "cell_type": "code",
   "execution_count": 9,
   "id": "bfe0c7da-aff7-44a6-a3a2-212fb593de40",
   "metadata": {},
   "outputs": [
    {
     "name": "stdout",
     "output_type": "stream",
     "text": [
      "('Apple', 'Ball')\n"
     ]
    }
   ],
   "source": [
    "t = (\"Apple\",\"Ball\",\"Cat\",\"Dog\",\"Apple\")\n",
    "print(t[0:2])"
   ]
  },
  {
   "cell_type": "code",
   "execution_count": 10,
   "id": "a3b347d4-4f1f-4b56-953c-410c5bd21806",
   "metadata": {},
   "outputs": [],
   "source": [
    "# No append() insert() extend()\n",
    "# No update\n",
    "# No del remove() pop()\n",
    "# No sort()\n",
    "# No reverse()"
   ]
  },
  {
   "cell_type": "code",
   "execution_count": 13,
   "id": "b8fba825-564c-44c6-a7c2-a77118471df0",
   "metadata": {},
   "outputs": [
    {
     "name": "stdin",
     "output_type": "stream",
     "text": [
      "Enter n =  5\n",
      "Enter x =  1234\n",
      "Enter x =  354\n",
      "Enter x =  654\n",
      "Enter x =  675\n",
      "Enter x =  234\n"
     ]
    },
    {
     "name": "stdout",
     "output_type": "stream",
     "text": [
      "(1234, 354, 654, 675, 234)\n"
     ]
    }
   ],
   "source": [
    "t = tuple()\n",
    "n = int(input(\"Enter n = \"))\n",
    "for i in range(n):\n",
    "    x = int(input(\"Enter x = \"))\n",
    "    t = t + (x,)\n",
    "\n",
    "print(t)"
   ]
  },
  {
   "cell_type": "code",
   "execution_count": 14,
   "id": "85924798-161f-4ba3-80da-06937480a8fe",
   "metadata": {},
   "outputs": [
    {
     "name": "stdout",
     "output_type": "stream",
     "text": [
      "1234\n",
      "234\n",
      "3151\n"
     ]
    }
   ],
   "source": [
    "print(max(t))\n",
    "print(min(t))\n",
    "print(sum(t))"
   ]
  },
  {
   "cell_type": "code",
   "execution_count": 15,
   "id": "87e88d35-1ff1-4975-b664-592a9dd6ccd8",
   "metadata": {},
   "outputs": [
    {
     "name": "stdout",
     "output_type": "stream",
     "text": [
      "(10, 15, 20, 30, 40, 50)\n"
     ]
    }
   ],
   "source": [
    "a = 10,15,20,30,40,50\n",
    "print(a)"
   ]
  },
  {
   "cell_type": "code",
   "execution_count": 18,
   "id": "e7df8b83-8871-457c-90c2-095f0b4257d8",
   "metadata": {},
   "outputs": [
    {
     "name": "stdout",
     "output_type": "stream",
     "text": [
      "('Ball', 'Cat', 'Dog', 'Apple')\n"
     ]
    }
   ],
   "source": [
    "#tuple to list\n",
    "t = (\"Apple\",\"Ball\",\"Cat\",\"Dog\",\"Apple\")\n",
    "l = list(t)\n",
    "del l[0]\n",
    "\n",
    "t = tuple(l)\n",
    "print(t)"
   ]
  },
  {
   "cell_type": "code",
   "execution_count": 19,
   "id": "5a752355-10e4-45ac-8682-2817c2033605",
   "metadata": {},
   "outputs": [
    {
     "name": "stdout",
     "output_type": "stream",
     "text": [
      "((1, 2, 3), (4, 5, 6), (7, 8, 9))\n"
     ]
    }
   ],
   "source": [
    "# tuple inside tuple\n",
    "a = ((1,2,3),\n",
    "    (4,5,6),\n",
    "    (7,8,9))\n",
    "print(a)"
   ]
  },
  {
   "cell_type": "code",
   "execution_count": null,
   "id": "be5e3c97-c1fe-4595-8aae-d39288efb2ab",
   "metadata": {},
   "outputs": [],
   "source": []
  }
 ],
 "metadata": {
  "kernelspec": {
   "display_name": "Python 3 (ipykernel)",
   "language": "python",
   "name": "python3"
  },
  "language_info": {
   "codemirror_mode": {
    "name": "ipython",
    "version": 3
   },
   "file_extension": ".py",
   "mimetype": "text/x-python",
   "name": "python",
   "nbconvert_exporter": "python",
   "pygments_lexer": "ipython3",
   "version": "3.13.3"
  }
 },
 "nbformat": 4,
 "nbformat_minor": 5
}
