{
 "cells": [
  {
   "cell_type": "code",
   "execution_count": 2,
   "id": "1e8ee2c2-a478-4bf6-b438-0a206c90e5db",
   "metadata": {},
   "outputs": [],
   "source": [
    "# if <condition>:\n",
    "#     <operations>\n",
    "# elif <condition>:\n",
    "#     <operations>\n",
    "# ...\n",
    "# else:\n",
    "#     <operations>"
   ]
  },
  {
   "cell_type": "code",
   "execution_count": 3,
   "id": "81f8b05d-b700-4113-9de6-d8002a57260d",
   "metadata": {},
   "outputs": [],
   "source": [
    "# > < >= <= == !="
   ]
  },
  {
   "cell_type": "code",
   "execution_count": 7,
   "id": "c7b07a46-a7bd-4324-a05a-e337f2dc5e3f",
   "metadata": {},
   "outputs": [
    {
     "name": "stdin",
     "output_type": "stream",
     "text": [
      "Enter a =  -10\n"
     ]
    },
    {
     "name": "stdout",
     "output_type": "stream",
     "text": [
      "a is -ve number\n"
     ]
    }
   ],
   "source": [
    "a = int(input(\"Enter a = \"))\n",
    "if a>=0:\n",
    "    print(\"a is +ve number\")\n",
    "else:\n",
    "    print(\"a is -ve number\")"
   ]
  },
  {
   "cell_type": "code",
   "execution_count": 17,
   "id": "7395d5f0-834c-4900-b018-ee4521981ad9",
   "metadata": {},
   "outputs": [
    {
     "name": "stdin",
     "output_type": "stream",
     "text": [
      "Enter a =  10\n"
     ]
    },
    {
     "name": "stdout",
     "output_type": "stream",
     "text": [
      "this is even no\n"
     ]
    }
   ],
   "source": [
    "a = int(input(\"Enter a = \"))\n",
    "if a%2==0:\n",
    "    print(\"this is even no\")\n",
    "else:\n",
    "    print(\"this is odd no\")"
   ]
  },
  {
   "cell_type": "code",
   "execution_count": 24,
   "id": "9a5260b8-b6c0-4b0c-be2c-ae976d8eb1ea",
   "metadata": {},
   "outputs": [
    {
     "name": "stdin",
     "output_type": "stream",
     "text": [
      "Enter a =  10\n",
      "Enter b =  10\n"
     ]
    },
    {
     "name": "stdout",
     "output_type": "stream",
     "text": [
      "Both are equal!\n"
     ]
    }
   ],
   "source": [
    "a =int(input(\"Enter a = \"))\n",
    "b = int(input(\"Enter b = \"))\n",
    "if a>b:\n",
    "    print(a,\"is greater than\",b)\n",
    "elif b>a:\n",
    "    print(b,\"is greater than\",a)\n",
    "else:\n",
    "    print(\"Both are equal!\")"
   ]
  },
  {
   "cell_type": "code",
   "execution_count": 25,
   "id": "d93763d1-1b77-41ba-a76b-fa72087e563f",
   "metadata": {},
   "outputs": [
    {
     "name": "stdin",
     "output_type": "stream",
     "text": [
      "Enter physics marks =  80\n",
      "Enter chemistry marks =  90\n",
      "Enter math marks =  67\n",
      "Enter english marks =  76\n",
      "Enter nepali marks =  78\n"
     ]
    },
    {
     "name": "stdout",
     "output_type": "stream",
     "text": [
      "The total marks =  391\n",
      "The per =  78.2 %\n",
      "The grade =  B\n"
     ]
    }
   ],
   "source": [
    "physics = int(input(\"Enter physics marks = \"))\n",
    "chemistry = int(input(\"Enter chemistry marks = \"))\n",
    "math = int(input(\"Enter math marks = \"))\n",
    "english = int(input(\"Enter english marks = \"))\n",
    "nepali = int(input(\"Enter nepali marks = \"))\n",
    "\n",
    "total = physics + chemistry + math + english + nepali\n",
    "per = total/5\n",
    "\n",
    "if per >=80:\n",
    "    grade = 'A'\n",
    "elif per >=60:\n",
    "    grade = 'B'\n",
    "elif per >=50:\n",
    "    grade = 'C'\n",
    "else:\n",
    "    grade = 'F'\n",
    "\n",
    "print(\"The total marks = \",total)\n",
    "print(\"The per = \",per,\"%\")\n",
    "print(\"The grade = \",grade)"
   ]
  },
  {
   "cell_type": "code",
   "execution_count": 26,
   "id": "ddd7cb33-1d4c-432c-a5b1-c4b88f598253",
   "metadata": {},
   "outputs": [],
   "source": [
    "# WAP to create a basic calculator"
   ]
  },
  {
   "cell_type": "code",
   "execution_count": 27,
   "id": "57cbee1d-3391-4266-90ae-6ce8a4217d0e",
   "metadata": {},
   "outputs": [
    {
     "name": "stdin",
     "output_type": "stream",
     "text": [
      "Enter a =  10\n",
      "Enter b =  20\n",
      "Enter + or - or / or *   +\n"
     ]
    },
    {
     "name": "stdout",
     "output_type": "stream",
     "text": [
      "30\n"
     ]
    }
   ],
   "source": [
    "a = int(input(\"Enter a = \"))\n",
    "b = int(input(\"Enter b = \"))\n",
    "o = input(\"Enter + or - or / or *  \")\n",
    "if o == '+':\n",
    "    print(a+b)\n",
    "elif o == '-':\n",
    "    print(a-b)\n",
    "elif o == '*':\n",
    "    print(a*b)\n",
    "elif o == '/':\n",
    "    print(a/b)\n",
    "else:\n",
    "    print('Invalid operator')"
   ]
  },
  {
   "cell_type": "code",
   "execution_count": 28,
   "id": "d6602c95-4ebb-442e-9f1f-767ceedcc721",
   "metadata": {},
   "outputs": [],
   "source": [
    "# # Logical operator\n",
    "# and  & \n",
    "# or   |"
   ]
  },
  {
   "cell_type": "code",
   "execution_count": 32,
   "id": "0e05bf22-5746-415d-bd82-2e446231223f",
   "metadata": {},
   "outputs": [
    {
     "name": "stdout",
     "output_type": "stream",
     "text": [
      "True\n",
      "False\n",
      "False\n",
      "False\n"
     ]
    }
   ],
   "source": [
    "print(True and True)\n",
    "print(True and False)\n",
    "print(False and True)\n",
    "print(False and False)"
   ]
  },
  {
   "cell_type": "code",
   "execution_count": 33,
   "id": "f639b21f-fe96-4ca0-afa4-16bd21e79a47",
   "metadata": {},
   "outputs": [
    {
     "name": "stdout",
     "output_type": "stream",
     "text": [
      "True\n",
      "True\n",
      "True\n",
      "False\n"
     ]
    }
   ],
   "source": [
    "print(True or True)\n",
    "print(True or False)\n",
    "print(False or True)\n",
    "print(False or False)"
   ]
  },
  {
   "cell_type": "code",
   "execution_count": 42,
   "id": "d66afae0-6a52-4934-8ff9-2fed779fbe60",
   "metadata": {},
   "outputs": [
    {
     "name": "stdin",
     "output_type": "stream",
     "text": [
      "Enter a =  10\n",
      "Enter b =  2\n",
      "Enter + or - or / or *   /\n"
     ]
    },
    {
     "name": "stdout",
     "output_type": "stream",
     "text": [
      "5.0\n"
     ]
    }
   ],
   "source": [
    "a = int(input(\"Enter a = \"))\n",
    "b = int(input(\"Enter b = \"))\n",
    "o = input(\"Enter + or - or / or *  \")\n",
    "if o == '+':\n",
    "    print(a+b)\n",
    "elif o == '-':\n",
    "    print(a-b)\n",
    "elif o == '*':\n",
    "    print(a*b)\n",
    "elif o == '/' and b != 0:\n",
    "    print(a/b)\n",
    "elif o == '/' and b == 0:\n",
    "    print(\"There is an error\")\n",
    "else:\n",
    "    print('Invalid operator')"
   ]
  },
  {
   "cell_type": "code",
   "execution_count": 43,
   "id": "81ffe158-a58b-43b8-92f0-d72511cb6110",
   "metadata": {},
   "outputs": [],
   "source": [
    "# Chain condition\n",
    "# nested if else"
   ]
  },
  {
   "cell_type": "code",
   "execution_count": null,
   "id": "8275b7fb-a4b8-405b-bfb0-24c49f6059bd",
   "metadata": {},
   "outputs": [],
   "source": [
    "#or\n",
    "physics = int(input(\"Enter physics marks = \"))\n",
    "chemistry = int(input(\"Enter chemistry marks = \"))\n",
    "math = int(input(\"Enter math marks = \"))\n",
    "english = int(input(\"Enter english marks = \"))\n",
    "nepali = int(input(\"Enter nepali marks = \"))\n",
    "\n",
    "total = physics + chemistry + math + english + nepali\n",
    "per = total/5\n",
    "\n",
    "if (per >80) or (per == 80):\n",
    "    grade = 'A'\n",
    "elif (per >60) or (per ==60):\n",
    "    grade = 'B'\n",
    "elif (per >50) or (per ==50):\n",
    "    grade = 'C'\n",
    "else:\n",
    "    grade = 'F'\n",
    "\n",
    "print(\"The total marks = \",total)\n",
    "print(\"The per = \",per,\"%\")\n",
    "print(\"The grade = \",grade)"
   ]
  },
  {
   "cell_type": "code",
   "execution_count": 1,
   "id": "458aff31-045b-415d-aedf-c45030268997",
   "metadata": {},
   "outputs": [],
   "source": [
    "# # nested if else\n",
    "# if <condition>:\n",
    "#     if <condition>:\n",
    "#         <operation>\n",
    "#     else <condition>:\n",
    "#         <operation>\n",
    "# else:\n",
    "#     if <condition>:\n",
    "#         <operation>\n",
    "#     else <condition>:\n",
    "#         <operation>"
   ]
  },
  {
   "cell_type": "code",
   "execution_count": 3,
   "id": "9f5e7cc0-ea5f-4992-9632-85121ff3e96c",
   "metadata": {},
   "outputs": [
    {
     "name": "stdin",
     "output_type": "stream",
     "text": [
      "Enter n =  -5\n"
     ]
    },
    {
     "name": "stdout",
     "output_type": "stream",
     "text": [
      "The no is -ve and odd\n"
     ]
    }
   ],
   "source": [
    "n = int(input(\"Enter n = \"))\n",
    "if n >= 0:\n",
    "    if n%2==0:\n",
    "        print(\"The no is +ve and even\")\n",
    "    else:\n",
    "        print(\"The no is +ve and odd\")\n",
    "else:\n",
    "    if n%2==0:\n",
    "        print(\"The no is -ve and even\")\n",
    "    else:\n",
    "        print(\"The no is -ve and odd\")"
   ]
  },
  {
   "cell_type": "code",
   "execution_count": null,
   "id": "136ad098-4d6e-4091-9b98-ac841c13b814",
   "metadata": {},
   "outputs": [],
   "source": [
    "## chain condition\n",
    "# if <condition>:\n",
    "#     if <condition>:\n",
    "#         if <condition>:\n",
    "#            <operations>  \n",
    "#     else:\n",
    "#         <operation>\n",
    "# else:\n",
    "#     if <condition>:\n",
    "#         <operation>\n",
    "#     else:\n",
    "#         <operation>"
   ]
  }
 ],
 "metadata": {
  "kernelspec": {
   "display_name": "Python 3 (ipykernel)",
   "language": "python",
   "name": "python3"
  },
  "language_info": {
   "codemirror_mode": {
    "name": "ipython",
    "version": 3
   },
   "file_extension": ".py",
   "mimetype": "text/x-python",
   "name": "python",
   "nbconvert_exporter": "python",
   "pygments_lexer": "ipython3",
   "version": "3.13.3"
  }
 },
 "nbformat": 4,
 "nbformat_minor": 5
}
