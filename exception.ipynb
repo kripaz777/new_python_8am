{
 "cells": [
  {
   "cell_type": "code",
   "execution_count": 2,
   "id": "312ab4af-bf5c-41b6-a1e8-61e284997323",
   "metadata": {},
   "outputs": [],
   "source": [
    "# try:\n",
    "#     <operations>\n",
    "# except:\n",
    "#     <operations>"
   ]
  },
  {
   "cell_type": "code",
   "execution_count": 4,
   "id": "ef53c4e4-6c0d-4e9c-800c-9aaa0266bd94",
   "metadata": {},
   "outputs": [
    {
     "name": "stdin",
     "output_type": "stream",
     "text": [
      "Enter age =  Ten\n"
     ]
    },
    {
     "ename": "ValueError",
     "evalue": "invalid literal for int() with base 10: 'Ten'",
     "output_type": "error",
     "traceback": [
      "\u001b[1;31m---------------------------------------------------------------------------\u001b[0m",
      "\u001b[1;31mValueError\u001b[0m                                Traceback (most recent call last)",
      "Cell \u001b[1;32mIn[4], line 1\u001b[0m\n\u001b[1;32m----> 1\u001b[0m age \u001b[38;5;241m=\u001b[39m \u001b[38;5;28;43mint\u001b[39;49m\u001b[43m(\u001b[49m\u001b[38;5;28;43minput\u001b[39;49m\u001b[43m(\u001b[49m\u001b[38;5;124;43m\"\u001b[39;49m\u001b[38;5;124;43mEnter age = \u001b[39;49m\u001b[38;5;124;43m\"\u001b[39;49m\u001b[43m)\u001b[49m\u001b[43m)\u001b[49m\n",
      "\u001b[1;31mValueError\u001b[0m: invalid literal for int() with base 10: 'Ten'"
     ]
    }
   ],
   "source": [
    "age = int(input(\"Enter age = \"))"
   ]
  },
  {
   "cell_type": "code",
   "execution_count": null,
   "id": "c3cc2bc8-d416-4e71-9517-11662e0aa60f",
   "metadata": {},
   "outputs": [],
   "source": []
  },
  {
   "cell_type": "code",
   "execution_count": 9,
   "id": "16add170-41ab-4b71-9736-a97b1bc6ba0b",
   "metadata": {},
   "outputs": [
    {
     "name": "stdin",
     "output_type": "stream",
     "text": [
      "Enter age =  Ten\n"
     ]
    },
    {
     "name": "stdout",
     "output_type": "stream",
     "text": [
      "Please Enter int value\n"
     ]
    }
   ],
   "source": [
    "try:\n",
    "    age = int(input(\"Enter age = \"))\n",
    "except:\n",
    "    print(\"Please Enter int value\")"
   ]
  },
  {
   "cell_type": "code",
   "execution_count": 15,
   "id": "e985ca34-8d8d-46cb-99e5-8b938d7ddd38",
   "metadata": {},
   "outputs": [
    {
     "name": "stdout",
     "output_type": "stream",
     "text": [
      "There is no such file\n"
     ]
    }
   ],
   "source": [
    "try:\n",
    "    file = open('bil.txt','r')\n",
    "    print(file.read())\n",
    "    file.close()\n",
    "except:\n",
    "    print(\"There is no such file\")"
   ]
  },
  {
   "cell_type": "code",
   "execution_count": 19,
   "id": "966827c6-7fd1-4230-bf45-59317369ae10",
   "metadata": {},
   "outputs": [
    {
     "name": "stdin",
     "output_type": "stream",
     "text": [
      "Enter a =  10\n",
      "Enter b =  0\n"
     ]
    },
    {
     "name": "stdout",
     "output_type": "stream",
     "text": [
      "The value of b can not be zero.\n"
     ]
    }
   ],
   "source": [
    "try:\n",
    "    a = int(input(\"Enter a = \"))\n",
    "    b = int(input(\"Enter b = \"))\n",
    "    c = a/b\n",
    "    print(c)\n",
    "except ValueError:\n",
    "    print(\"Please enter int value.\")\n",
    "except  ZeroDivisionError:\n",
    "    print(\"The value of b can not be zero.\")"
   ]
  },
  {
   "cell_type": "code",
   "execution_count": 23,
   "id": "360a3350-8e4f-4802-a334-3b5dafe67e3f",
   "metadata": {},
   "outputs": [
    {
     "name": "stdin",
     "output_type": "stream",
     "text": [
      "Enter a =  10\n",
      "Enter b =  dsfsd\n"
     ]
    },
    {
     "name": "stdout",
     "output_type": "stream",
     "text": [
      "Please enter int value.\n"
     ]
    }
   ],
   "source": [
    "try:\n",
    "    a = int(input(\"Enter a = \"))\n",
    "    b = int(input(\"Enter b = \"))\n",
    "    c = a/b\n",
    " \n",
    "except ValueError:\n",
    "    print(\"Please enter int value.\")\n",
    "except  ZeroDivisionError:\n",
    "    print(\"The value of b can not be zero.\")\n",
    "else:\n",
    "    print(c)"
   ]
  },
  {
   "cell_type": "code",
   "execution_count": null,
   "id": "396d57ac-014d-4144-ae95-fd28e3a7cbed",
   "metadata": {},
   "outputs": [],
   "source": []
  },
  {
   "cell_type": "code",
   "execution_count": 25,
   "id": "4298d70d-4d23-4c2a-838f-2ebb58ed114e",
   "metadata": {},
   "outputs": [
    {
     "name": "stdin",
     "output_type": "stream",
     "text": [
      "Enter usr =  fsdsdf\n",
      "Enter pas sfsddsf\n"
     ]
    },
    {
     "name": "stdout",
     "output_type": "stream",
     "text": [
      "Please enter valid username and password\n"
     ]
    }
   ],
   "source": [
    "username = \"admin\"\n",
    "password = \"admin\"\n",
    "\n",
    "try:\n",
    "    usr = input(\"Enter usr = \")\n",
    "    pas = input(\"Enter pas\")\n",
    "    if username == usr and password == pas:\n",
    "        print(\"You are logedin!\")\n",
    "    else:\n",
    "        raise Exception\n",
    "except:\n",
    "    print(\"Please enter valid username and password\")"
   ]
  },
  {
   "cell_type": "code",
   "execution_count": 28,
   "id": "2b451550-dc7c-4f8d-8630-c14a8df1d7a9",
   "metadata": {},
   "outputs": [
    {
     "name": "stdin",
     "output_type": "stream",
     "text": [
      "Enter usr =  adas\n",
      "Enter pas asdsa\n"
     ]
    },
    {
     "name": "stdout",
     "output_type": "stream",
     "text": [
      "Please enter valid username and password\n"
     ]
    },
    {
     "name": "stdin",
     "output_type": "stream",
     "text": [
      "Enter usr =  admin\n",
      "Enter pas admin\n"
     ]
    },
    {
     "name": "stdout",
     "output_type": "stream",
     "text": [
      "You are logedin!\n"
     ]
    }
   ],
   "source": [
    "username = \"admin\"\n",
    "password = \"admin\"\n",
    "def login():\n",
    "    try:\n",
    "        usr = input(\"Enter usr = \")\n",
    "        pas = input(\"Enter pas\")\n",
    "        if username == usr and password == pas:\n",
    "            print(\"You are logedin!\")\n",
    "        else:\n",
    "            raise Exception\n",
    "    except:\n",
    "        print(\"Please enter valid username and password\")\n",
    "        login()\n",
    "        \n",
    "login()"
   ]
  },
  {
   "cell_type": "code",
   "execution_count": 34,
   "id": "97654eea-80e5-4a68-89f6-cb6eb1bd99da",
   "metadata": {},
   "outputs": [
    {
     "name": "stdin",
     "output_type": "stream",
     "text": [
      "Enter age =  18\n"
     ]
    },
    {
     "name": "stdout",
     "output_type": "stream",
     "text": [
      "You are under age!\n"
     ]
    }
   ],
   "source": [
    "# Assert ststement\n",
    "try:\n",
    "    age = int(input(\"Enter age = \"))\n",
    "    assert age > 20\n",
    "except:\n",
    "    print(\"You are under age!\")\n",
    "else:\n",
    "    print(\"You are welcome!\")"
   ]
  },
  {
   "cell_type": "code",
   "execution_count": null,
   "id": "62fb39d2-3f66-4644-882a-46bb66a3b090",
   "metadata": {},
   "outputs": [],
   "source": []
  }
 ],
 "metadata": {
  "kernelspec": {
   "display_name": "Python 3 (ipykernel)",
   "language": "python",
   "name": "python3"
  },
  "language_info": {
   "codemirror_mode": {
    "name": "ipython",
    "version": 3
   },
   "file_extension": ".py",
   "mimetype": "text/x-python",
   "name": "python",
   "nbconvert_exporter": "python",
   "pygments_lexer": "ipython3",
   "version": "3.13.3"
  }
 },
 "nbformat": 4,
 "nbformat_minor": 5
}
