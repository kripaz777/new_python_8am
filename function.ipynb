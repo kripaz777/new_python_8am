{
 "cells": [
  {
   "cell_type": "code",
   "execution_count": 1,
   "id": "8a501cf0-4010-49a3-9183-76fdebffc422",
   "metadata": {},
   "outputs": [],
   "source": [
    "# Function"
   ]
  },
  {
   "cell_type": "code",
   "execution_count": 2,
   "id": "ef3c586b-9404-4481-896e-429ffe26de19",
   "metadata": {},
   "outputs": [],
   "source": [
    "# predefined function\n",
    "# print() type() int() float() str() list() tuple() dict()"
   ]
  },
  {
   "cell_type": "code",
   "execution_count": 3,
   "id": "c0a31736-541d-4db1-9385-728e2e676340",
   "metadata": {},
   "outputs": [],
   "source": [
    "# # user defined\n",
    "\n",
    "# def <function_name>():\n",
    "#     <operations>\n",
    "\n",
    "# <function_name>()"
   ]
  },
  {
   "cell_type": "code",
   "execution_count": 7,
   "id": "546a3ea2-5302-4d8a-a678-635483e0bd40",
   "metadata": {},
   "outputs": [
    {
     "name": "stdout",
     "output_type": "stream",
     "text": [
      "hello world\n"
     ]
    }
   ],
   "source": [
    "def hello():\n",
    "    print(\"hello world\")\n",
    "\n",
    "hello()"
   ]
  },
  {
   "cell_type": "code",
   "execution_count": null,
   "id": "1c8414ec-03b8-4805-86a4-6ec008392fb5",
   "metadata": {},
   "outputs": [],
   "source": [
    "# function without argument and non return type"
   ]
  },
  {
   "cell_type": "code",
   "execution_count": 11,
   "id": "edca0eec-2508-497a-b373-a94f085250ab",
   "metadata": {},
   "outputs": [
    {
     "name": "stdout",
     "output_type": "stream",
     "text": [
      "50\n"
     ]
    }
   ],
   "source": [
    "def area():\n",
    "    l = 10           #local variable\n",
    "    b = 5            #local variable\n",
    "    a = l*b          #local variable\n",
    "    print(a)\n",
    "    \n",
    "area()"
   ]
  },
  {
   "cell_type": "code",
   "execution_count": 13,
   "id": "f318316c-2c4a-49a4-9b11-a585af4f6a0f",
   "metadata": {},
   "outputs": [
    {
     "name": "stdout",
     "output_type": "stream",
     "text": [
      "50\n"
     ]
    }
   ],
   "source": [
    "l = 10         #global variable\n",
    "b = 5          #global variable\n",
    "def area():\n",
    "    a = l*b\n",
    "    print(a)\n",
    "area()"
   ]
  },
  {
   "cell_type": "code",
   "execution_count": 14,
   "id": "a61d34b1-c39d-4c6d-92e0-f98e99047c9c",
   "metadata": {},
   "outputs": [
    {
     "name": "stdout",
     "output_type": "stream",
     "text": [
      "50\n"
     ]
    }
   ],
   "source": [
    "# function with arguments\n",
    "def area(l,b):  #l,b is parameter\n",
    "    a = l*b\n",
    "    print(a)\n",
    "\n",
    "area(10,5)      #10,5 is argument"
   ]
  },
  {
   "cell_type": "code",
   "execution_count": 15,
   "id": "ed3c927f-1def-4662-a0e3-54233e23f0f1",
   "metadata": {},
   "outputs": [
    {
     "name": "stdin",
     "output_type": "stream",
     "text": [
      "Enter name =  Ram\n",
      "Enter age =  34\n",
      "Enter add =  Kathmandu\n"
     ]
    },
    {
     "name": "stdout",
     "output_type": "stream",
     "text": [
      "Hello World I am Ram. I am from Kathmandu. I am 34\n"
     ]
    }
   ],
   "source": [
    "def info(name,age,add):\n",
    "    data = f\"Hello World I am {name}. I am from {add}. I am {age}\"\n",
    "    print(data)\n",
    "\n",
    "\n",
    "name = input(\"Enter name = \")\n",
    "age = input(\"Enter age = \")\n",
    "add = input(\"Enter add = \")\n",
    "info(name,age,add)"
   ]
  },
  {
   "cell_type": "code",
   "execution_count": null,
   "id": "07fbc1dd-6506-4ad3-a883-25fc26d8d909",
   "metadata": {},
   "outputs": [],
   "source": []
  },
  {
   "cell_type": "code",
   "execution_count": 18,
   "id": "ac6269d7-2faf-45cd-ad7a-a5212bad56f7",
   "metadata": {},
   "outputs": [
    {
     "name": "stdin",
     "output_type": "stream",
     "text": [
      "Enter name =  Ram\n",
      "Enter age =  78\n",
      "Enter add =  Kathmandu\n"
     ]
    },
    {
     "name": "stdout",
     "output_type": "stream",
     "text": [
      "Hello World I am Ram. I am from Kathmandu. I am 78\n"
     ]
    }
   ],
   "source": [
    "def info(x):\n",
    "    name,age,add = x\n",
    "    data = f\"Hello World I am {name}. I am from {add}. I am {age}\"\n",
    "    print(data)\n",
    "\n",
    "\n",
    "name = input(\"Enter name = \")\n",
    "age = input(\"Enter age = \")\n",
    "add = input(\"Enter add = \")\n",
    "x = [name,age,add]\n",
    "info(x)\n"
   ]
  },
  {
   "cell_type": "code",
   "execution_count": 19,
   "id": "5395cb1a-999a-4153-bb1a-81795d1c5a60",
   "metadata": {},
   "outputs": [
    {
     "name": "stdout",
     "output_type": "stream",
     "text": [
      "Php\n",
      "C\n",
      "C++\n",
      "Java\n",
      "Python\n"
     ]
    }
   ],
   "source": [
    "def language(x = \"Python\"):\n",
    "    print(x)\n",
    "\n",
    "language(\"Php\")\n",
    "language(\"C\")\n",
    "language(\"C++\")\n",
    "language(\"Java\")\n",
    "language()"
   ]
  },
  {
   "cell_type": "code",
   "execution_count": 21,
   "id": "7d2be65c-819e-4bc8-9f56-867867e8c2be",
   "metadata": {},
   "outputs": [
    {
     "name": "stdin",
     "output_type": "stream",
     "text": [
      "Enter name =  Ram\n",
      "Enter age =  23\n"
     ]
    },
    {
     "name": "stdout",
     "output_type": "stream",
     "text": [
      "Hello World I am Ram. I am from Nepal. I am 23\n"
     ]
    }
   ],
   "source": [
    "def info(name,age,add=\"Nepal\"):\n",
    "    data = f\"Hello World I am {name}. I am from {add}. I am {age}\"\n",
    "    print(data)\n",
    "\n",
    "\n",
    "name = input(\"Enter name = \")\n",
    "age = input(\"Enter age = \")\n",
    "# add = input(\"Enter add = \")\n",
    "info(name,age)"
   ]
  },
  {
   "cell_type": "code",
   "execution_count": 24,
   "id": "089fc301-2bdd-4c41-9360-24d660ee0154",
   "metadata": {},
   "outputs": [
    {
     "name": "stdout",
     "output_type": "stream",
     "text": [
      "Hello World I am python\n"
     ]
    }
   ],
   "source": [
    "# return type\n",
    "def hello():\n",
    "    return \"Hello World\"\n",
    "\n",
    "x = hello()\n",
    "info = f\"{x} I am python\"\n",
    "print(info)"
   ]
  },
  {
   "cell_type": "code",
   "execution_count": 25,
   "id": "6c0464e7-9aa6-4e2b-b460-bb28762b31a0",
   "metadata": {},
   "outputs": [
    {
     "name": "stdout",
     "output_type": "stream",
     "text": [
      "100\n"
     ]
    }
   ],
   "source": [
    "def area(l,b):\n",
    "    a = l*b\n",
    "    return a\n",
    "\n",
    "l = 10\n",
    "b = 5\n",
    "h = 2\n",
    "\n",
    "a = area(l,b)\n",
    "v = a*h\n",
    "print(v)"
   ]
  },
  {
   "cell_type": "code",
   "execution_count": 27,
   "id": "462dd234-7f72-40d8-9283-d75d4f5da95e",
   "metadata": {},
   "outputs": [
    {
     "name": "stdout",
     "output_type": "stream",
     "text": [
      "50\n",
      "100\n"
     ]
    }
   ],
   "source": [
    "def cal(l,b,h):\n",
    "    a = l*b\n",
    "    v = a*h\n",
    "    return a,v\n",
    "\n",
    "l = 10\n",
    "b = 5\n",
    "h = 2\n",
    "\n",
    "area,volume = (cal(l,b,h))\n",
    "print(area)\n",
    "print(volume)"
   ]
  },
  {
   "cell_type": "code",
   "execution_count": 28,
   "id": "50f3c07c-94d2-40c5-8c8f-6d77c1ce1476",
   "metadata": {},
   "outputs": [
    {
     "name": "stdin",
     "output_type": "stream",
     "text": [
      "Enter a =  10\n",
      "Enter b =  3\n",
      "Enter + or - or / or *   /\n"
     ]
    },
    {
     "name": "stdout",
     "output_type": "stream",
     "text": [
      "3.3333333333333335\n"
     ]
    }
   ],
   "source": [
    "def add(a,b):\n",
    "    return a+b\n",
    "def sub(a,b):\n",
    "    return a-b\n",
    "def mul(a,b):\n",
    "    return a*b\n",
    "def div(a,b):\n",
    "    return a/b\n",
    "    \n",
    "a = int(input(\"Enter a = \"))\n",
    "b = int(input(\"Enter b = \"))\n",
    "o = input(\"Enter + or - or / or *  \")\n",
    "if o == '+':\n",
    "    print(add(a,b))\n",
    "elif o == '-':\n",
    "    print(sub(a,b))\n",
    "elif o == '*':\n",
    "    print(mul(a,b))\n",
    "elif o == '/':\n",
    "    print(div(a,b))\n",
    "else:\n",
    "    print('Invalid operator')"
   ]
  },
  {
   "cell_type": "code",
   "execution_count": 32,
   "id": "2db6a8a5-c0d6-4183-9c78-249aa354c62d",
   "metadata": {},
   "outputs": [
    {
     "name": "stdout",
     "output_type": "stream",
     "text": [
      "Hello World\n"
     ]
    },
    {
     "name": "stdin",
     "output_type": "stream",
     "text": [
      "Enter y for more print  y\n"
     ]
    },
    {
     "name": "stdout",
     "output_type": "stream",
     "text": [
      "Hello World\n"
     ]
    },
    {
     "name": "stdin",
     "output_type": "stream",
     "text": [
      "Enter y for more print  y\n"
     ]
    },
    {
     "name": "stdout",
     "output_type": "stream",
     "text": [
      "Hello World\n"
     ]
    },
    {
     "name": "stdin",
     "output_type": "stream",
     "text": [
      "Enter y for more print  jhkjhj\n"
     ]
    }
   ],
   "source": [
    "# recursive function\n",
    "def hello():\n",
    "    print(\"Hello World\")\n",
    "    x = input(\"Enter y for more print \")\n",
    "    if x == 'y':\n",
    "        hello()\n",
    "    \n",
    "hello()"
   ]
  },
  {
   "cell_type": "code",
   "execution_count": 33,
   "id": "b541b21a-dbb9-4a94-8cbd-f5c00ab83d96",
   "metadata": {},
   "outputs": [
    {
     "name": "stdout",
     "output_type": "stream",
     "text": [
      "4\n"
     ]
    }
   ],
   "source": [
    "# lambda function\n",
    "#lambda <arguments>:<operations>\n",
    "x = lambda a:a**2\n",
    "print(x(2))"
   ]
  },
  {
   "cell_type": "code",
   "execution_count": 34,
   "id": "a87eb31c-f7ee-48aa-8b35-6c357af66c51",
   "metadata": {},
   "outputs": [
    {
     "name": "stdout",
     "output_type": "stream",
     "text": [
      "50\n"
     ]
    }
   ],
   "source": [
    "x = lambda l,b:l*b\n",
    "print(x(10,5))"
   ]
  },
  {
   "cell_type": "code",
   "execution_count": 35,
   "id": "db3f831d-5ec5-42e7-810f-265b2b11adf1",
   "metadata": {},
   "outputs": [
    {
     "data": {
      "text/plain": [
       "'hello world'"
      ]
     },
     "execution_count": 35,
     "metadata": {},
     "output_type": "execute_result"
    }
   ],
   "source": [
    "x = lambda s:s.lower()\n",
    "x(\"Hello World\")"
   ]
  },
  {
   "cell_type": "code",
   "execution_count": null,
   "id": "3ae92a76-ceb2-46d7-8139-8adaad7d66c6",
   "metadata": {},
   "outputs": [],
   "source": []
  }
 ],
 "metadata": {
  "kernelspec": {
   "display_name": "Python 3 (ipykernel)",
   "language": "python",
   "name": "python3"
  },
  "language_info": {
   "codemirror_mode": {
    "name": "ipython",
    "version": 3
   },
   "file_extension": ".py",
   "mimetype": "text/x-python",
   "name": "python",
   "nbconvert_exporter": "python",
   "pygments_lexer": "ipython3",
   "version": "3.13.3"
  }
 },
 "nbformat": 4,
 "nbformat_minor": 5
}
