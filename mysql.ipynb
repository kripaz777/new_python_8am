{
 "cells": [
  {
   "cell_type": "code",
   "execution_count": 1,
   "id": "8e7c4f6c-2c5d-4c26-9566-db3b928d41a0",
   "metadata": {},
   "outputs": [
    {
     "name": "stdout",
     "output_type": "stream",
     "text": [
      "Requirement already satisfied: mysql-connector in c:\\users\\aayush\\venv\\lib\\site-packages (2.2.9)\n"
     ]
    },
    {
     "name": "stderr",
     "output_type": "stream",
     "text": [
      "\n",
      "[notice] A new release of pip is available: 25.0.1 -> 25.1.1\n",
      "[notice] To update, run: python.exe -m pip install --upgrade pip\n"
     ]
    }
   ],
   "source": [
    "!pip install mysql-connector"
   ]
  },
  {
   "cell_type": "code",
   "execution_count": 1,
   "id": "c0d3b1f5-b662-4c51-a676-102eab26f7d7",
   "metadata": {},
   "outputs": [],
   "source": [
    "import mysql.connector  \t\t#importing database\n",
    "\n",
    "database = mysql.connector.connect(\n",
    "  host=\"localhost\",\n",
    "  user=\"root\",\n",
    "  password=\"\",\n",
    "  database = \"python_class_8_am\"\n",
    ")\n",
    "db = database.cursor()"
   ]
  },
  {
   "cell_type": "code",
   "execution_count": 3,
   "id": "674face0-675c-4476-89f0-c886e3cb45af",
   "metadata": {},
   "outputs": [
    {
     "name": "stdout",
     "output_type": "stream",
     "text": [
      "(1, 'Ram', 89, 99, 89, 87, 78, 470, 90.0, 'A')\n",
      "(2, 'Shyam', 89, 76, 89, 80, 87, 470, 85.0, 'A')\n",
      "(3, 'Hari', 79, 96, 99, 70, 77, 475, 86.0, 'A')\n",
      "(4, 'Sita', 78, 93, 92, 76, 78, 470, 85.0, 'A')\n",
      "(5, 'Nabin', 78, 70, 60, 80, 78, 400, 73.0, 'B')\n"
     ]
    }
   ],
   "source": [
    "#read all data from database\n",
    "db.execute(\"SELECT * FROM student\")\n",
    "result =db.fetchall()\n",
    "\n",
    "for x in result:\n",
    "  print(x)"
   ]
  },
  {
   "cell_type": "code",
   "execution_count": 4,
   "id": "a514f9d4-3595-4360-bbd8-9b7cac8d6f39",
   "metadata": {},
   "outputs": [
    {
     "name": "stdout",
     "output_type": "stream",
     "text": [
      "(1, 'Ram', 90.0, 'A')\n",
      "(2, 'Shyam', 85.0, 'A')\n",
      "(3, 'Hari', 86.0, 'A')\n",
      "(4, 'Sita', 85.0, 'A')\n",
      "(5, 'Nabin', 73.0, 'B')\n"
     ]
    }
   ],
   "source": [
    "#read selected column's data from database\n",
    "db.execute(\"SELECT sn,name,per,grade FROM student\")\n",
    "result =db.fetchall()\n",
    "\n",
    "for x in result:\n",
    "  print(x)"
   ]
  },
  {
   "cell_type": "code",
   "execution_count": 5,
   "id": "e869ed12-dd61-4882-a45c-1f00d619731f",
   "metadata": {},
   "outputs": [
    {
     "name": "stdout",
     "output_type": "stream",
     "text": [
      "(5, 'Nabin', 78, 70, 60, 80, 78, 400, 73.0, 'B')\n"
     ]
    }
   ],
   "source": [
    "#read filtered column's data from the database\n",
    "db.execute(\"SELECT * FROM student WHERE grade = 'B'\")\n",
    "result =db.fetchall()\n",
    "\n",
    "for x in result:\n",
    "  print(x)"
   ]
  },
  {
   "cell_type": "code",
   "execution_count": null,
   "id": "c241b2f4-ec95-4197-a76b-9b9b0b0247b6",
   "metadata": {},
   "outputs": [],
   "source": [
    "#read filtered column's data from the database\n",
    "db.execute(\"SELECT * FROM student WHERE grade = 'A' AND per > 90.0;\")\n",
    "result =db.fetchall()\n",
    "\n",
    "for x in result:\n",
    "  print(x)"
   ]
  },
  {
   "cell_type": "code",
   "execution_count": 3,
   "id": "4a52bdee-72c2-446d-8396-e8f5dc2961c5",
   "metadata": {},
   "outputs": [],
   "source": [
    "# Write on table\n",
    "sql = \"\"\" INSERT INTO student (name, physics, chemistry, math, english, nepali, total, per, grade) \n",
    "VALUES ('Akash', 78, 90, 87, 67, 70, 400, 74, 'B');\"\"\"\n",
    "db.execute(sql)\n",
    "database.commit()"
   ]
  },
  {
   "cell_type": "code",
   "execution_count": null,
   "id": "928c6bf4-c9e4-46ce-be31-8b9ddde68f08",
   "metadata": {},
   "outputs": [],
   "source": [
    "name = input(\"Enter name = \")\n",
    "physics = int(input(\"Enter physics marks = \"))\n",
    "chemistry = int(input(\"Enter chemistry marks = \"))\n",
    "math = int(input(\"Enter math marks = \"))\n",
    "english = int(input(\"Enter english marks = \"))\n",
    "nepali = int(input(\"Enter nepali marks = \"))\n",
    "\n",
    "total = physics + chemistry + math + english + nepali\n",
    "per = total/5\n",
    "\n",
    "if per >=80:\n",
    "    grade = 'A'\n",
    "elif per >=60:\n",
    "    grade = 'B'\n",
    "elif per >=50:\n",
    "    grade = 'C'\n",
    "else:\n",
    "    grade = 'F'\n",
    "\n",
    "\n",
    "sql = f\"\"\"INSERT INTO student (name, physics, chemistry, math, english, nepali, total, per, grade) \n",
    "VALUES ('{name}', {physics}, {chemistry}, {math}, {english}, {nepali}, {total}, {per}, '{grade}');\"\"\"\n",
    "db.execute(sql)\n",
    "database.commit()"
   ]
  },
  {
   "cell_type": "code",
   "execution_count": 4,
   "id": "f702cd3d-1931-4bd1-85c1-d81716f765fe",
   "metadata": {},
   "outputs": [
    {
     "name": "stdin",
     "output_type": "stream",
     "text": [
      "Enter sn =  2\n",
      "Enter name =  Ram\n"
     ]
    }
   ],
   "source": [
    "sn = int(input(\"Enter sn = \"))\n",
    "name = input(\"Enter name = \")\n",
    "sql = f\"\"\"UPDATE student SET name = '{name}' WHERE sn = {sn}; \"\"\"\n",
    "db.execute(sql)\n",
    "database.commit()"
   ]
  },
  {
   "cell_type": "code",
   "execution_count": 6,
   "id": "127f5234-5dac-4798-9439-41bdb3f0da7b",
   "metadata": {},
   "outputs": [],
   "source": [
    "# !pip install pandasql"
   ]
  },
  {
   "cell_type": "code",
   "execution_count": 7,
   "id": "01b6802e-74de-4d8d-b111-699bd988b87f",
   "metadata": {},
   "outputs": [
    {
     "name": "stdin",
     "output_type": "stream",
     "text": [
      "Enter sn =  7\n"
     ]
    }
   ],
   "source": [
    "#delete in sql\n",
    "sn = int(input(\"Enter sn = \"))\n",
    "sql = f\"\"\"DELETE FROM student WHERE sn = {sn}\"\"\"\n",
    "db.execute(sql)\n",
    "database.commit()"
   ]
  },
  {
   "cell_type": "code",
   "execution_count": null,
   "id": "28f8058e-1743-46d5-ba7b-01d5d2d4e55f",
   "metadata": {},
   "outputs": [],
   "source": []
  }
 ],
 "metadata": {
  "kernelspec": {
   "display_name": "Python 3 (ipykernel)",
   "language": "python",
   "name": "python3"
  },
  "language_info": {
   "codemirror_mode": {
    "name": "ipython",
    "version": 3
   },
   "file_extension": ".py",
   "mimetype": "text/x-python",
   "name": "python",
   "nbconvert_exporter": "python",
   "pygments_lexer": "ipython3",
   "version": "3.13.3"
  }
 },
 "nbformat": 4,
 "nbformat_minor": 5
}
