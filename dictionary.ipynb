{
 "cells": [
  {
   "cell_type": "code",
   "execution_count": 1,
   "id": "acb3e7e4-b2c5-4008-a90c-69f2c92bbd6f",
   "metadata": {},
   "outputs": [],
   "source": [
    "# dictionary\n",
    "# -indexing\n",
    "# -ordered\n",
    "# -multiple and duplicate data\n",
    "# -mutable"
   ]
  },
  {
   "cell_type": "code",
   "execution_count": 2,
   "id": "a37daac9-db4c-4caf-9ed0-16d62fca4f82",
   "metadata": {},
   "outputs": [
    {
     "name": "stdout",
     "output_type": "stream",
     "text": [
      "<class 'dict'>\n",
      "<class 'dict'>\n"
     ]
    }
   ],
   "source": [
    "a = {}\n",
    "b = dict()\n",
    "\n",
    "print(type(a))\n",
    "print(type(b))"
   ]
  },
  {
   "cell_type": "code",
   "execution_count": 3,
   "id": "1120e668-840b-41af-8342-1a63224d51b9",
   "metadata": {},
   "outputs": [],
   "source": [
    "# d = {<key>:<value>, <key>:<value>,<key>:<value>}"
   ]
  },
  {
   "cell_type": "code",
   "execution_count": 6,
   "id": "715dde6a-349e-4663-a020-59c964e3da0e",
   "metadata": {},
   "outputs": [
    {
     "name": "stdout",
     "output_type": "stream",
     "text": [
      "Apple\n",
      "Ball\n",
      "Cat\n"
     ]
    }
   ],
   "source": [
    "d = {'a':'Apple','b':'Ball','c':'Cat'}\n",
    "print(d['a'])\n",
    "print(d['b'])\n",
    "print(d['c'])"
   ]
  },
  {
   "cell_type": "code",
   "execution_count": 7,
   "id": "5bab42f2-d3ce-4c3f-bc26-fe3c4e53f735",
   "metadata": {},
   "outputs": [
    {
     "name": "stdout",
     "output_type": "stream",
     "text": [
      "{'a': 'Apple', 'b': 'Ball', 'c': 'Cat'}\n"
     ]
    }
   ],
   "source": [
    "print(d)"
   ]
  },
  {
   "cell_type": "code",
   "execution_count": 8,
   "id": "b2340327-14cb-4001-938b-5a75e43fc9c6",
   "metadata": {},
   "outputs": [
    {
     "name": "stdout",
     "output_type": "stream",
     "text": [
      "{'a': 'Apple', 'b': 'Ball', 'c': 'Cat', 'A': 'Apple'}\n"
     ]
    }
   ],
   "source": [
    "d = {'a':'Apple','b':'Ball','c':'Cat','A':'Apple'}\n",
    "print(d)"
   ]
  },
  {
   "cell_type": "code",
   "execution_count": 9,
   "id": "05f08229-3dd4-4c79-86ea-ffbf8ea755d4",
   "metadata": {},
   "outputs": [
    {
     "name": "stdout",
     "output_type": "stream",
     "text": [
      "{'a': 'Apple', 'b': 'Ball', 'c': 'Cat'}\n"
     ]
    }
   ],
   "source": [
    "#adding value on dictionary\n",
    "d = {}\n",
    "d['a'] = 'Apple'\n",
    "d['b'] = 'Ball'\n",
    "d['c'] = 'Cat'\n",
    "print(d)"
   ]
  },
  {
   "cell_type": "code",
   "execution_count": 12,
   "id": "a009b90a-e4c6-423a-adb8-8a086a645d10",
   "metadata": {},
   "outputs": [
    {
     "name": "stdout",
     "output_type": "stream",
     "text": [
      "{'a': 'Ant', 'b': 'Ball', 'c': 'Cat'}\n"
     ]
    }
   ],
   "source": [
    "#update value in dictionary\n",
    "dic = {'a': 'Apple', 'b': 'Ball', 'c': 'Cat'}\n",
    "dic['a'] = 'Ant'\n",
    "print(dic)"
   ]
  },
  {
   "cell_type": "code",
   "execution_count": 13,
   "id": "a5f1fae2-d720-49ff-88ee-514dcf6c408f",
   "metadata": {},
   "outputs": [
    {
     "name": "stdout",
     "output_type": "stream",
     "text": [
      "a\n",
      "b\n",
      "c\n"
     ]
    }
   ],
   "source": [
    "#dictionary on loop\n",
    "a = {'a': 'Apple', 'b': 'Ball', 'c': 'Cat'}\n",
    "for i in a:\n",
    "    print(i)"
   ]
  },
  {
   "cell_type": "code",
   "execution_count": 14,
   "id": "4b0f7163-802b-4b80-98fc-958a480e6dde",
   "metadata": {},
   "outputs": [
    {
     "name": "stdout",
     "output_type": "stream",
     "text": [
      "Apple\n",
      "Ball\n",
      "Cat\n"
     ]
    }
   ],
   "source": [
    "#dictionary on loop\n",
    "a = {'a': 'Apple', 'b': 'Ball', 'c': 'Cat'}\n",
    "for i in a.values():\n",
    "    print(i)"
   ]
  },
  {
   "cell_type": "code",
   "execution_count": 15,
   "id": "e03911ff-7aff-41ec-bf32-e2d38497befe",
   "metadata": {},
   "outputs": [
    {
     "name": "stdout",
     "output_type": "stream",
     "text": [
      "('a', 'Apple')\n",
      "('b', 'Ball')\n",
      "('c', 'Cat')\n"
     ]
    }
   ],
   "source": [
    "#dictionary on loop\n",
    "a = {'a': 'Apple', 'b': 'Ball', 'c': 'Cat'}\n",
    "for i in a.items():\n",
    "    print(i)"
   ]
  },
  {
   "cell_type": "code",
   "execution_count": 17,
   "id": "cf8eca60-f3a4-4526-9f48-b720c9c95bbe",
   "metadata": {},
   "outputs": [
    {
     "name": "stdout",
     "output_type": "stream",
     "text": [
      "{'a': 'Apple', 'b': 'Ball', 'c': 'Cat'}\n"
     ]
    }
   ],
   "source": [
    "l = [['a', 'Apple'],\n",
    "    ['b', 'Ball'],\n",
    "    ['c', 'Cat']]\n",
    "dic = dict(l)\n",
    "print(dic)"
   ]
  },
  {
   "cell_type": "code",
   "execution_count": 18,
   "id": "d2a5d520-8a27-46c4-9058-8eae9c61a717",
   "metadata": {},
   "outputs": [
    {
     "name": "stdin",
     "output_type": "stream",
     "text": [
      "Enter n =  2\n",
      "Enter name =  Ram\n",
      "Enter phone =  9808778765\n",
      "Enter name =  Shyam\n",
      "Enter phone =  9808556543\n"
     ]
    },
    {
     "name": "stdout",
     "output_type": "stream",
     "text": [
      "{'Ram': '9808778765', 'Shyam': '9808556543'}\n"
     ]
    }
   ],
   "source": [
    "#create\n",
    "d = {}\n",
    "n = int(input(\"Enter n = \"))\n",
    "for i in range(n):\n",
    "    name = input(\"Enter name = \")\n",
    "    phone = input(\"Enter phone = \")\n",
    "    d[name] = phone\n",
    "\n",
    "print(d)"
   ]
  },
  {
   "cell_type": "code",
   "execution_count": 19,
   "id": "fb776740-a44a-4ad4-b91e-8fa75e8f353c",
   "metadata": {},
   "outputs": [],
   "source": [
    "#read"
   ]
  },
  {
   "cell_type": "code",
   "execution_count": 20,
   "id": "7b809dde-9fee-4c2c-80a5-5297a17afbb9",
   "metadata": {},
   "outputs": [
    {
     "data": {
      "text/plain": [
       "{'Ram': '9808556712', 'Shyam': '9808556543'}"
      ]
     },
     "execution_count": 20,
     "metadata": {},
     "output_type": "execute_result"
    }
   ],
   "source": [
    "#update\n",
    "d = {'Ram': '9808778765', 'Shyam': '9808556543'}\n",
    "d['Ram'] = '9808556712'\n",
    "d"
   ]
  },
  {
   "cell_type": "code",
   "execution_count": 21,
   "id": "0856a61c-db47-4373-a365-7b97ee45fc18",
   "metadata": {},
   "outputs": [],
   "source": [
    "# delete\n",
    "#del pop()"
   ]
  },
  {
   "cell_type": "code",
   "execution_count": 23,
   "id": "b2b7bcbb-66c7-470f-9ea2-116e0db5c78c",
   "metadata": {},
   "outputs": [
    {
     "name": "stdout",
     "output_type": "stream",
     "text": [
      "{'Shyam': '9808556543'}\n"
     ]
    }
   ],
   "source": [
    "d = {'Ram': '9808556712', 'Shyam': '9808556543'}\n",
    "del d['Ram']\n",
    "print(d)"
   ]
  },
  {
   "cell_type": "code",
   "execution_count": 25,
   "id": "d0e6fb9c-6c76-4a7a-bfbd-b920ccc2fdc2",
   "metadata": {},
   "outputs": [
    {
     "name": "stdout",
     "output_type": "stream",
     "text": [
      "{'Ram': '9808556712'}\n"
     ]
    }
   ],
   "source": [
    "d = {'Ram': '9808556712', 'Shyam': '9808556543'}\n",
    "d.pop('Shyam')\n",
    "print(d)"
   ]
  },
  {
   "cell_type": "code",
   "execution_count": 26,
   "id": "26786b32-7ef9-49a7-a58b-2e19e229e0e2",
   "metadata": {},
   "outputs": [
    {
     "name": "stdout",
     "output_type": "stream",
     "text": [
      "{'Ram': '9808556712'}\n",
      "9808556543\n"
     ]
    }
   ],
   "source": [
    "d = {'Ram': '9808556712', 'Shyam': '9808556543'}\n",
    "b = d.pop('Shyam')\n",
    "print(d)\n",
    "print(b)"
   ]
  },
  {
   "cell_type": "code",
   "execution_count": 27,
   "id": "219df1a7-37b3-4025-8330-29052d380307",
   "metadata": {},
   "outputs": [
    {
     "data": {
      "text/plain": [
       "{'Ram': [9845667654, 9808778765], 'Shyam': [9845667610, 9808778765]}"
      ]
     },
     "execution_count": 27,
     "metadata": {},
     "output_type": "execute_result"
    }
   ],
   "source": [
    "#list inside dict\n",
    "info = {'Ram':[9845667654,9808778765],\n",
    "       'Shyam':[9845667610,9808778765]}\n",
    "info"
   ]
  },
  {
   "cell_type": "code",
   "execution_count": 28,
   "id": "578f638c-a3d2-46cb-a6a1-98c3afa4d67d",
   "metadata": {},
   "outputs": [
    {
     "data": {
      "text/plain": [
       "{'name': ['Ram', 'Shyam'],\n",
       " 'ntc': [9856556543, 9856778765],\n",
       " 'ncell': [980888987654, 98087787654]}"
      ]
     },
     "execution_count": 28,
     "metadata": {},
     "output_type": "execute_result"
    }
   ],
   "source": [
    "#list inside dict\n",
    "info = {'name':['Ram','Shyam'],\n",
    "        'ntc':[9856556543,9856778765],\n",
    "        'ncell':[980888987654,98087787654]}\n",
    "info"
   ]
  },
  {
   "cell_type": "code",
   "execution_count": 34,
   "id": "9582c337-95d3-4535-802f-d3864dfd02ec",
   "metadata": {},
   "outputs": [
    {
     "name": "stdout",
     "output_type": "stream",
     "text": [
      "Shyam\n",
      "9856778765\n",
      "98087787654\n"
     ]
    }
   ],
   "source": [
    "print(info['name'][1])\n",
    "print(info['ntc'][1])\n",
    "print(info['ncell'][1])"
   ]
  },
  {
   "cell_type": "code",
   "execution_count": 3,
   "id": "902517f1-27a0-4049-800f-c5e39cbb55cd",
   "metadata": {},
   "outputs": [
    {
     "name": "stdin",
     "output_type": "stream",
     "text": [
      "Enter index =  1\n"
     ]
    },
    {
     "name": "stdout",
     "output_type": "stream",
     "text": [
      "Shyam\n",
      "9856778765\n",
      "98087787654\n"
     ]
    }
   ],
   "source": [
    "#read\n",
    "i = int(input(\"Enter index = \"))\n",
    "info = {'name': ['Ram', 'Shyam'],\n",
    "        'ntc': [9856556543, 9856778765],\n",
    "        'ncell': [980888987654, 98087787654]}\n",
    "\n",
    "print(info['name'][i])\n",
    "print(info['ntc'][i])\n",
    "print(info['ncell'][i])"
   ]
  },
  {
   "cell_type": "code",
   "execution_count": 5,
   "id": "1bd95990-b45e-45d4-a890-dac34d6f54fa",
   "metadata": {},
   "outputs": [
    {
     "name": "stdin",
     "output_type": "stream",
     "text": [
      "Enter n =  2\n",
      "Enter name =  Ram\n",
      "Enter ntc =  9845667561\n",
      "Enter ncell =  9808787653\n",
      "Enter name =  Shyam\n",
      "Enter ntc =  9856778765\n",
      "Enter ncell =  9808556765\n"
     ]
    },
    {
     "name": "stdout",
     "output_type": "stream",
     "text": [
      "{'name': ['Ram', 'Shyam'], 'ntc': ['9845667561', '9856778765'], 'ncell': ['9808787653', '9808556765']}\n"
     ]
    }
   ],
   "source": [
    "info = {'name':[],\n",
    "        'ntc':[],\n",
    "        'ncell':[]}\n",
    "n = int(input(\"Enter n = \"))\n",
    "for i in range(n):\n",
    "    name = input(\"Enter name = \")\n",
    "    ntc = input(\"Enter ntc = \")\n",
    "    ncell = input(\"Enter ncell = \")\n",
    "    info['name'].append(name)\n",
    "    info['ntc'].append(ntc)\n",
    "    info['ncell'].append(ncell)\n",
    "\n",
    "print(info)"
   ]
  },
  {
   "cell_type": "code",
   "execution_count": null,
   "id": "f3fe3b64-38cf-44a3-9d35-df341cfb53ad",
   "metadata": {},
   "outputs": [],
   "source": [
    "# WAP to take data from user and create dict inside list also do CRUD\n",
    "# WAP to take data from user and create dict inside dict also DO CRUD"
   ]
  }
 ],
 "metadata": {
  "kernelspec": {
   "display_name": "Python 3 (ipykernel)",
   "language": "python",
   "name": "python3"
  },
  "language_info": {
   "codemirror_mode": {
    "name": "ipython",
    "version": 3
   },
   "file_extension": ".py",
   "mimetype": "text/x-python",
   "name": "python",
   "nbconvert_exporter": "python",
   "pygments_lexer": "ipython3",
   "version": "3.13.3"
  }
 },
 "nbformat": 4,
 "nbformat_minor": 5
}
