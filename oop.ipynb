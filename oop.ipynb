{
 "cells": [
  {
   "cell_type": "code",
   "execution_count": null,
   "id": "578802c2-1641-4284-9a17-bfa9e6878a61",
   "metadata": {},
   "outputs": [],
   "source": [
    "# class\n",
    "class <class_name>:   #class\n",
    "    <methods>         #methods\n",
    "    <methods>\n",
    "\n",
    "obj = <class_name>()  #object\n",
    "    "
   ]
  },
  {
   "cell_type": "code",
   "execution_count": 1,
   "id": "d79a9a12-8975-4080-907a-31e715d714eb",
   "metadata": {},
   "outputs": [
    {
     "ename": "TypeError",
     "evalue": "Hello.hello() takes 0 positional arguments but 1 was given",
     "output_type": "error",
     "traceback": [
      "\u001b[1;31m---------------------------------------------------------------------------\u001b[0m",
      "\u001b[1;31mTypeError\u001b[0m                                 Traceback (most recent call last)",
      "Cell \u001b[1;32mIn[1], line 6\u001b[0m\n\u001b[0;32m      3\u001b[0m         \u001b[38;5;28mprint\u001b[39m(\u001b[38;5;124m\"\u001b[39m\u001b[38;5;124mHello World\u001b[39m\u001b[38;5;124m\"\u001b[39m)\n\u001b[0;32m      5\u001b[0m obj \u001b[38;5;241m=\u001b[39m Hello()\n\u001b[1;32m----> 6\u001b[0m \u001b[43mobj\u001b[49m\u001b[38;5;241;43m.\u001b[39;49m\u001b[43mhello\u001b[49m\u001b[43m(\u001b[49m\u001b[43m)\u001b[49m\n",
      "\u001b[1;31mTypeError\u001b[0m: Hello.hello() takes 0 positional arguments but 1 was given"
     ]
    }
   ],
   "source": [
    "class Hello:\n",
    "    def hello():\n",
    "        print(\"Hello World\")\n",
    "\n",
    "obj = Hello()\n",
    "obj.hello()"
   ]
  },
  {
   "cell_type": "code",
   "execution_count": 2,
   "id": "e607984c-9fa0-497b-83af-655e07ea46c2",
   "metadata": {},
   "outputs": [
    {
     "name": "stdout",
     "output_type": "stream",
     "text": [
      "Hello World\n"
     ]
    }
   ],
   "source": [
    "class Hello:\n",
    "    @staticmethod\n",
    "    def hello():\n",
    "        print(\"Hello World\")\n",
    "\n",
    "obj = Hello()\n",
    "obj.hello()"
   ]
  },
  {
   "cell_type": "code",
   "execution_count": 3,
   "id": "ab1f6a07-1ca3-43de-9890-d5d44333f7ed",
   "metadata": {},
   "outputs": [
    {
     "name": "stdout",
     "output_type": "stream",
     "text": [
      "Hello World\n"
     ]
    }
   ],
   "source": [
    "class Hello:                   #class\n",
    "    def hello(self):           #method\n",
    "        print(\"Hello World\")\n",
    "\n",
    "obj = Hello()                  #object\n",
    "obj.hello()                    #calling method"
   ]
  },
  {
   "cell_type": "code",
   "execution_count": 5,
   "id": "e882400e-8c49-4f12-aaa1-2e6cd95bb4b4",
   "metadata": {},
   "outputs": [
    {
     "name": "stdout",
     "output_type": "stream",
     "text": [
      "50\n",
      "100\n"
     ]
    }
   ],
   "source": [
    "class Cal:\n",
    "    def area(self):\n",
    "        l = 10\n",
    "        b = 5\n",
    "        a = l*b\n",
    "        print(a)\n",
    "    def volume(self):\n",
    "        l = 10\n",
    "        b = 5\n",
    "        h = 2\n",
    "        v = l*b*h\n",
    "        print(v)\n",
    "\n",
    "obj = Cal()\n",
    "obj.area()\n",
    "obj.volume()"
   ]
  },
  {
   "cell_type": "code",
   "execution_count": 7,
   "id": "823b2f06-5d49-44ce-b2a8-9e0b161ba3f2",
   "metadata": {},
   "outputs": [
    {
     "name": "stdout",
     "output_type": "stream",
     "text": [
      "Hello World I am Ram. I am from Kathmandu. I am 23\n"
     ]
    }
   ],
   "source": [
    "class Info:\n",
    "    def __init__(self):\n",
    "        self.name = \"Ram\"\n",
    "        self.age = 23\n",
    "        self.add = \"Kathmandu\"\n",
    "        \n",
    "    def info(self):\n",
    "        data = f\"Hello World I am {self.name}. I am from {self.add}. I am {self.age}\"\n",
    "        print(data)\n",
    "\n",
    "obj = Info()\n",
    "obj.info()"
   ]
  },
  {
   "cell_type": "code",
   "execution_count": null,
   "id": "db7e26e5-621a-4852-bb57-a50a76825f20",
   "metadata": {},
   "outputs": [],
   "source": [
    "class Info:\n",
    "    def __init__(self,name,age,add):\n",
    "        self.name = name\n",
    "        self.age = age\n",
    "        self.add = add\n",
    "        \n",
    "    def info(self):\n",
    "        data = f\"Hello World I am {self.name}. I am from {self.add}. I am {self.age}\"\n",
    "        print(data)\n",
    "        \n",
    "name = input(\"Enter name = \")\n",
    "age = int(input(\"Enter age = \"))\n",
    "add = input(\"Enter add = \")\n",
    "\n",
    "obj = Info(name,age,add)\n",
    "obj.info()"
   ]
  },
  {
   "cell_type": "code",
   "execution_count": 8,
   "id": "fbc90af0-97f8-4560-ac1d-b898893b3d37",
   "metadata": {},
   "outputs": [
    {
     "name": "stdin",
     "output_type": "stream",
     "text": [
      "Enter name =  Ram\n",
      "Enter age =  23\n",
      "Enter add =  Kathmanu\n"
     ]
    },
    {
     "name": "stdout",
     "output_type": "stream",
     "text": [
      "Hello World I am Ram. I am from Kathmanu. I am 23\n"
     ]
    }
   ],
   "source": [
    "class Info:\n",
    "    def __init__(self,name,age):\n",
    "        self.name = name\n",
    "        self.age = age\n",
    "        \n",
    "    def info(self,add):\n",
    "        data = f\"Hello World I am {self.name}. I am from {add}. I am {self.age}\"\n",
    "        print(data)\n",
    "        \n",
    "name = input(\"Enter name = \")\n",
    "age = int(input(\"Enter age = \"))\n",
    "add = input(\"Enter add = \")\n",
    "\n",
    "obj = Info(name,age)\n",
    "obj.info(add)"
   ]
  },
  {
   "cell_type": "code",
   "execution_count": 10,
   "id": "f3b92fa9-8d31-4ba6-af77-51eeef64e4c0",
   "metadata": {},
   "outputs": [
    {
     "name": "stdin",
     "output_type": "stream",
     "text": [
      "Enter name =  Ram\n",
      "Enter age =  34\n",
      "Enter add =  Kathmandu\n"
     ]
    },
    {
     "name": "stdout",
     "output_type": "stream",
     "text": [
      "Hello World I am Ram. I am from Kathmandu. I am 34\n",
      "Hello World I am Shyam. I am from Kathmandu. I am 34\n"
     ]
    }
   ],
   "source": [
    "class Info:\n",
    "    def __init__(self,name,age,add):\n",
    "        self.name = name\n",
    "        self.age = age\n",
    "        self.add = add\n",
    "        \n",
    "    def info(self):\n",
    "        data = f\"Hello World I am {self.name}. I am from {self.add}. I am {self.age}\"\n",
    "        print(data)\n",
    "        \n",
    "name = input(\"Enter name = \")\n",
    "age = int(input(\"Enter age = \"))\n",
    "add = input(\"Enter add = \")\n",
    "\n",
    "obj = Info(name,age,add)\n",
    "obj.info()\n",
    "\n",
    "obj1 = Info(\"Shyam\",34,\"Kathmandu\")\n",
    "obj1.info()"
   ]
  },
  {
   "cell_type": "code",
   "execution_count": 11,
   "id": "43df1463-e7ab-4088-a9a2-8d68795b952e",
   "metadata": {},
   "outputs": [
    {
     "name": "stdout",
     "output_type": "stream",
     "text": [
      "Hello World I am Ram. I am from Kathmandu. I am 34\n"
     ]
    }
   ],
   "source": [
    "obj.info()"
   ]
  },
  {
   "cell_type": "code",
   "execution_count": 15,
   "id": "0d21470f-6819-4d3a-9d86-4154dd2a41fa",
   "metadata": {},
   "outputs": [
    {
     "name": "stdout",
     "output_type": "stream",
     "text": [
      "50\n",
      "100\n"
     ]
    }
   ],
   "source": [
    "# WAP to create two different class (Area and Volume) using different class and objct. And class the function inside class\n",
    "class Area:\n",
    "    def __init__(self,l,b):\n",
    "        self.l = l\n",
    "        self.b = b\n",
    "    def area(self):\n",
    "        a = self.l * self.b\n",
    "        print(a)\n",
    "\n",
    "class Volume:\n",
    "    def __init__(self,l,b,h):\n",
    "        self.l = l\n",
    "        self.b = b\n",
    "        self.h = h\n",
    "    def volume(self):\n",
    "        v = l*b*h\n",
    "        print(v)\n",
    "l = 10\n",
    "b = 5\n",
    "h = 2\n",
    "obj = Area(l,b)\n",
    "obj.area()\n",
    "obj1 = Volume(l,b,h)\n",
    "obj1.volume()"
   ]
  },
  {
   "cell_type": "code",
   "execution_count": 4,
   "id": "efed9dc2-7ca4-4940-81fc-e7ac5dd83bc0",
   "metadata": {},
   "outputs": [
    {
     "name": "stdout",
     "output_type": "stream",
     "text": [
      "Ram\n",
      "<class '__main__.Info'>\n"
     ]
    }
   ],
   "source": [
    "# str method\n",
    "class Info:\n",
    "    def __init__(self):\n",
    "        self.name = \"Ram\"\n",
    "        self.age = 34\n",
    "        self.add = \"Kathmandu\"\n",
    "    def __str__(self):\n",
    "        return self.name\n",
    "\n",
    "obj = Info()\n",
    "print(obj)\n",
    "print(type(obj))"
   ]
  },
  {
   "cell_type": "code",
   "execution_count": 5,
   "id": "6a741658-5ccd-44e2-a495-2ce324d8c53f",
   "metadata": {},
   "outputs": [
    {
     "ename": "TypeError",
     "evalue": "unsupported operand type(s) for +: 'Point' and 'Point'",
     "output_type": "error",
     "traceback": [
      "\u001b[1;31m---------------------------------------------------------------------------\u001b[0m",
      "\u001b[1;31mTypeError\u001b[0m                                 Traceback (most recent call last)",
      "Cell \u001b[1;32mIn[5], line 8\u001b[0m\n\u001b[0;32m      6\u001b[0m p1 \u001b[38;5;241m=\u001b[39m Point(\u001b[38;5;241m2\u001b[39m,\u001b[38;5;241m3\u001b[39m)\n\u001b[0;32m      7\u001b[0m p2 \u001b[38;5;241m=\u001b[39m Point(\u001b[38;5;241m-\u001b[39m\u001b[38;5;241m1\u001b[39m,\u001b[38;5;241m2\u001b[39m)\n\u001b[1;32m----> 8\u001b[0m \u001b[43mp1\u001b[49m\u001b[43m \u001b[49m\u001b[38;5;241;43m+\u001b[39;49m\u001b[43m \u001b[49m\u001b[43mp2\u001b[49m\n",
      "\u001b[1;31mTypeError\u001b[0m: unsupported operand type(s) for +: 'Point' and 'Point'"
     ]
    }
   ],
   "source": [
    "class Point:\n",
    "    def __init__(self, x = 0, y = 0):\n",
    "        self.x = x\n",
    "        self.y = y\n",
    "        \n",
    "p1 = Point(2,3)\n",
    "p2 = Point(-1,2)\n",
    "p1 + p2"
   ]
  },
  {
   "cell_type": "code",
   "execution_count": 9,
   "id": "4320a086-26bf-4a9b-abc8-a92b7889e1ea",
   "metadata": {},
   "outputs": [
    {
     "name": "stdout",
     "output_type": "stream",
     "text": [
      "This is init method 1000\n",
      "This is init method 2000\n",
      "This is add method 3000\n",
      "This is init method 3000\n",
      "This is str method 3000\n",
      "3000\n"
     ]
    }
   ],
   "source": [
    "class Point:\n",
    "    def __init__(self, x = 0):\n",
    "        self.x = x\n",
    "        print(\"This is init method\",self.x)\n",
    "\n",
    "    def __str__(self):\n",
    "        print(\"This is str method\",self.x)\n",
    "        return f\"{self.x}\"\n",
    "\n",
    "    def __add__(self,other):\n",
    "        x = self.x + other.x\n",
    "        print(\"This is add method\",x)\n",
    "        return Point(x)\n",
    "\n",
    "p1 = Point(1000)\n",
    "p2 = Point(2000)\n",
    "print(p1 + p2)"
   ]
  },
  {
   "cell_type": "code",
   "execution_count": 10,
   "id": "f0ab369d-745e-4e0a-a0c8-c4fec795408d",
   "metadata": {},
   "outputs": [
    {
     "name": "stdout",
     "output_type": "stream",
     "text": [
      "This is init method 1000\n",
      "This is init method 2000\n",
      "This is init method 2500\n",
      "This is add method 3000\n",
      "This is init method 3000\n",
      "This is add method 5500\n",
      "This is init method 5500\n",
      "This is str method 5500\n",
      "5500\n"
     ]
    }
   ],
   "source": [
    "class Point:\n",
    "    def __init__(self, x = 0):\n",
    "        self.x = x\n",
    "        print(\"This is init method\",self.x)\n",
    "\n",
    "    def __str__(self):\n",
    "        print(\"This is str method\",self.x)\n",
    "        return f\"{self.x}\"\n",
    "\n",
    "    def __add__(self,other):\n",
    "        x = self.x + other.x\n",
    "        print(\"This is add method\",x)\n",
    "        return Point(x)\n",
    "\n",
    "p1 = Point(1000)\n",
    "p2 = Point(2000)\n",
    "p3 = Point(2500)\n",
    "print(p1 + p2 + p3)"
   ]
  },
  {
   "cell_type": "code",
   "execution_count": 12,
   "id": "2d7ed794-962f-4599-a875-793b94c9eb9e",
   "metadata": {},
   "outputs": [
    {
     "name": "stdout",
     "output_type": "stream",
     "text": [
      "Parrot can fly\n",
      "Penguin can't fly\n"
     ]
    }
   ],
   "source": [
    "class Parrot:\n",
    "    def fly(self):\n",
    "        print(\"Parrot can fly\")\n",
    "    \n",
    "    def swim(self):\n",
    "        print(\"Parrot can't swim\")\n",
    "\n",
    "class Penguin:\n",
    "    def fly(self):\n",
    "        print(\"Penguin can't fly\")\n",
    "\n",
    "    def swim(self):\n",
    "        print(\"Penguin can swim\")\n",
    "\n",
    "# common interface\n",
    "def flying_test(bird):\n",
    "    bird.fly()\n",
    "#instantiate objects\n",
    "\n",
    "blu = Parrot()\n",
    "peggy = Penguin()\n",
    "\n",
    "# passing the object\n",
    "flying_test(blu)\n",
    "flying_test(peggy)"
   ]
  },
  {
   "cell_type": "code",
   "execution_count": null,
   "id": "2338cc0d-8a32-432b-8a0c-6a373e4bdd28",
   "metadata": {},
   "outputs": [],
   "source": []
  }
 ],
 "metadata": {
  "kernelspec": {
   "display_name": "Python 3 (ipykernel)",
   "language": "python",
   "name": "python3"
  },
  "language_info": {
   "codemirror_mode": {
    "name": "ipython",
    "version": 3
   },
   "file_extension": ".py",
   "mimetype": "text/x-python",
   "name": "python",
   "nbconvert_exporter": "python",
   "pygments_lexer": "ipython3",
   "version": "3.13.3"
  }
 },
 "nbformat": 4,
 "nbformat_minor": 5
}
